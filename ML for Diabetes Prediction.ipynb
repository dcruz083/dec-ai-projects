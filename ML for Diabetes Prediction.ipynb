{
 "cells": [
  {
   "cell_type": "markdown",
   "metadata": {},
   "source": [
    "# Diabetes Prediction\n",
    "###  Course: LinkedIn Learning Hands-On Data Science and AI for Healthcare\n",
    "### Intented Use:\n",
    "\n",
    "### Data source: \n",
    "https://data.mendeley.com/datasets/wj9rwkp9c2/1 Rashid, Ahlam (2020), “Diabetes Dataset”, Mendeley Data, V1, doi: 10.17632/wj9rwkp9c2.1\n",
    "\n",
    "###  Limitations\n",
    "\n",
    "\n",
    "### Ethical Considerations\n",
    "\n",
    "\n",
    "##### Created on 1/2/25\n"
   ]
  },
  {
   "cell_type": "markdown",
   "metadata": {},
   "source": [
    "## 1. Data Sourcing"
   ]
  },
  {
   "cell_type": "code",
   "execution_count": 86,
   "metadata": {},
   "outputs": [],
   "source": [
    "import pandas as pd\n",
    "df_diabetes = pd.read_csv('https://prod-dcd-datasets-public-files-eu-west-1.s3.eu-west-1.amazonaws.com/e205d80e-2bc6-49ed-bfcc-4215b6b516fd',delimiter=',',header='infer')"
   ]
  },
  {
   "cell_type": "code",
   "execution_count": 87,
   "metadata": {
    "id": "HMCoqPb3EqkF"
   },
   "outputs": [
    {
     "data": {
      "text/html": [
       "<div>\n",
       "<style scoped>\n",
       "    .dataframe tbody tr th:only-of-type {\n",
       "        vertical-align: middle;\n",
       "    }\n",
       "\n",
       "    .dataframe tbody tr th {\n",
       "        vertical-align: top;\n",
       "    }\n",
       "\n",
       "    .dataframe thead th {\n",
       "        text-align: right;\n",
       "    }\n",
       "</style>\n",
       "<table border=\"1\" class=\"dataframe\">\n",
       "  <thead>\n",
       "    <tr style=\"text-align: right;\">\n",
       "      <th></th>\n",
       "      <th>ID</th>\n",
       "      <th>No_Pation</th>\n",
       "      <th>Gender</th>\n",
       "      <th>AGE</th>\n",
       "      <th>Urea</th>\n",
       "      <th>Cr</th>\n",
       "      <th>HbA1c</th>\n",
       "      <th>Chol</th>\n",
       "      <th>TG</th>\n",
       "      <th>HDL</th>\n",
       "      <th>LDL</th>\n",
       "      <th>VLDL</th>\n",
       "      <th>BMI</th>\n",
       "      <th>CLASS</th>\n",
       "    </tr>\n",
       "  </thead>\n",
       "  <tbody>\n",
       "    <tr>\n",
       "      <th>0</th>\n",
       "      <td>502</td>\n",
       "      <td>17975</td>\n",
       "      <td>F</td>\n",
       "      <td>50</td>\n",
       "      <td>4.7</td>\n",
       "      <td>46</td>\n",
       "      <td>4.9</td>\n",
       "      <td>4.2</td>\n",
       "      <td>0.9</td>\n",
       "      <td>2.4</td>\n",
       "      <td>1.4</td>\n",
       "      <td>0.5</td>\n",
       "      <td>24.0</td>\n",
       "      <td>N</td>\n",
       "    </tr>\n",
       "    <tr>\n",
       "      <th>1</th>\n",
       "      <td>735</td>\n",
       "      <td>34221</td>\n",
       "      <td>M</td>\n",
       "      <td>26</td>\n",
       "      <td>4.5</td>\n",
       "      <td>62</td>\n",
       "      <td>4.9</td>\n",
       "      <td>3.7</td>\n",
       "      <td>1.4</td>\n",
       "      <td>1.1</td>\n",
       "      <td>2.1</td>\n",
       "      <td>0.6</td>\n",
       "      <td>23.0</td>\n",
       "      <td>N</td>\n",
       "    </tr>\n",
       "    <tr>\n",
       "      <th>2</th>\n",
       "      <td>420</td>\n",
       "      <td>47975</td>\n",
       "      <td>F</td>\n",
       "      <td>50</td>\n",
       "      <td>4.7</td>\n",
       "      <td>46</td>\n",
       "      <td>4.9</td>\n",
       "      <td>4.2</td>\n",
       "      <td>0.9</td>\n",
       "      <td>2.4</td>\n",
       "      <td>1.4</td>\n",
       "      <td>0.5</td>\n",
       "      <td>24.0</td>\n",
       "      <td>N</td>\n",
       "    </tr>\n",
       "    <tr>\n",
       "      <th>3</th>\n",
       "      <td>680</td>\n",
       "      <td>87656</td>\n",
       "      <td>F</td>\n",
       "      <td>50</td>\n",
       "      <td>4.7</td>\n",
       "      <td>46</td>\n",
       "      <td>4.9</td>\n",
       "      <td>4.2</td>\n",
       "      <td>0.9</td>\n",
       "      <td>2.4</td>\n",
       "      <td>1.4</td>\n",
       "      <td>0.5</td>\n",
       "      <td>24.0</td>\n",
       "      <td>N</td>\n",
       "    </tr>\n",
       "    <tr>\n",
       "      <th>4</th>\n",
       "      <td>504</td>\n",
       "      <td>34223</td>\n",
       "      <td>M</td>\n",
       "      <td>33</td>\n",
       "      <td>7.1</td>\n",
       "      <td>46</td>\n",
       "      <td>4.9</td>\n",
       "      <td>4.9</td>\n",
       "      <td>1.0</td>\n",
       "      <td>0.8</td>\n",
       "      <td>2.0</td>\n",
       "      <td>0.4</td>\n",
       "      <td>21.0</td>\n",
       "      <td>N</td>\n",
       "    </tr>\n",
       "    <tr>\n",
       "      <th>...</th>\n",
       "      <td>...</td>\n",
       "      <td>...</td>\n",
       "      <td>...</td>\n",
       "      <td>...</td>\n",
       "      <td>...</td>\n",
       "      <td>...</td>\n",
       "      <td>...</td>\n",
       "      <td>...</td>\n",
       "      <td>...</td>\n",
       "      <td>...</td>\n",
       "      <td>...</td>\n",
       "      <td>...</td>\n",
       "      <td>...</td>\n",
       "      <td>...</td>\n",
       "    </tr>\n",
       "    <tr>\n",
       "      <th>995</th>\n",
       "      <td>200</td>\n",
       "      <td>454317</td>\n",
       "      <td>M</td>\n",
       "      <td>71</td>\n",
       "      <td>11.0</td>\n",
       "      <td>97</td>\n",
       "      <td>7.0</td>\n",
       "      <td>7.5</td>\n",
       "      <td>1.7</td>\n",
       "      <td>1.2</td>\n",
       "      <td>1.8</td>\n",
       "      <td>0.6</td>\n",
       "      <td>30.0</td>\n",
       "      <td>Y</td>\n",
       "    </tr>\n",
       "    <tr>\n",
       "      <th>996</th>\n",
       "      <td>671</td>\n",
       "      <td>876534</td>\n",
       "      <td>M</td>\n",
       "      <td>31</td>\n",
       "      <td>3.0</td>\n",
       "      <td>60</td>\n",
       "      <td>12.3</td>\n",
       "      <td>4.1</td>\n",
       "      <td>2.2</td>\n",
       "      <td>0.7</td>\n",
       "      <td>2.4</td>\n",
       "      <td>15.4</td>\n",
       "      <td>37.2</td>\n",
       "      <td>Y</td>\n",
       "    </tr>\n",
       "    <tr>\n",
       "      <th>997</th>\n",
       "      <td>669</td>\n",
       "      <td>87654</td>\n",
       "      <td>M</td>\n",
       "      <td>30</td>\n",
       "      <td>7.1</td>\n",
       "      <td>81</td>\n",
       "      <td>6.7</td>\n",
       "      <td>4.1</td>\n",
       "      <td>1.1</td>\n",
       "      <td>1.2</td>\n",
       "      <td>2.4</td>\n",
       "      <td>8.1</td>\n",
       "      <td>27.4</td>\n",
       "      <td>Y</td>\n",
       "    </tr>\n",
       "    <tr>\n",
       "      <th>998</th>\n",
       "      <td>99</td>\n",
       "      <td>24004</td>\n",
       "      <td>M</td>\n",
       "      <td>38</td>\n",
       "      <td>5.8</td>\n",
       "      <td>59</td>\n",
       "      <td>6.7</td>\n",
       "      <td>5.3</td>\n",
       "      <td>2.0</td>\n",
       "      <td>1.6</td>\n",
       "      <td>2.9</td>\n",
       "      <td>14.0</td>\n",
       "      <td>40.5</td>\n",
       "      <td>Y</td>\n",
       "    </tr>\n",
       "    <tr>\n",
       "      <th>999</th>\n",
       "      <td>248</td>\n",
       "      <td>24054</td>\n",
       "      <td>M</td>\n",
       "      <td>54</td>\n",
       "      <td>5.0</td>\n",
       "      <td>67</td>\n",
       "      <td>6.9</td>\n",
       "      <td>3.8</td>\n",
       "      <td>1.7</td>\n",
       "      <td>1.1</td>\n",
       "      <td>3.0</td>\n",
       "      <td>0.7</td>\n",
       "      <td>33.0</td>\n",
       "      <td>Y</td>\n",
       "    </tr>\n",
       "  </tbody>\n",
       "</table>\n",
       "<p>1000 rows × 14 columns</p>\n",
       "</div>"
      ],
      "text/plain": [
       "      ID  No_Pation Gender  AGE  Urea  Cr  HbA1c  Chol   TG  HDL  LDL  VLDL  \\\n",
       "0    502      17975      F   50   4.7  46    4.9   4.2  0.9  2.4  1.4   0.5   \n",
       "1    735      34221      M   26   4.5  62    4.9   3.7  1.4  1.1  2.1   0.6   \n",
       "2    420      47975      F   50   4.7  46    4.9   4.2  0.9  2.4  1.4   0.5   \n",
       "3    680      87656      F   50   4.7  46    4.9   4.2  0.9  2.4  1.4   0.5   \n",
       "4    504      34223      M   33   7.1  46    4.9   4.9  1.0  0.8  2.0   0.4   \n",
       "..   ...        ...    ...  ...   ...  ..    ...   ...  ...  ...  ...   ...   \n",
       "995  200     454317      M   71  11.0  97    7.0   7.5  1.7  1.2  1.8   0.6   \n",
       "996  671     876534      M   31   3.0  60   12.3   4.1  2.2  0.7  2.4  15.4   \n",
       "997  669      87654      M   30   7.1  81    6.7   4.1  1.1  1.2  2.4   8.1   \n",
       "998   99      24004      M   38   5.8  59    6.7   5.3  2.0  1.6  2.9  14.0   \n",
       "999  248      24054      M   54   5.0  67    6.9   3.8  1.7  1.1  3.0   0.7   \n",
       "\n",
       "      BMI CLASS  \n",
       "0    24.0     N  \n",
       "1    23.0     N  \n",
       "2    24.0     N  \n",
       "3    24.0     N  \n",
       "4    21.0     N  \n",
       "..    ...   ...  \n",
       "995  30.0     Y  \n",
       "996  37.2    Y   \n",
       "997  27.4    Y   \n",
       "998  40.5    Y   \n",
       "999  33.0    Y   \n",
       "\n",
       "[1000 rows x 14 columns]"
      ]
     },
     "execution_count": 87,
     "metadata": {},
     "output_type": "execute_result"
    }
   ],
   "source": [
    "df_diabetes"
   ]
  },
  {
   "cell_type": "markdown",
   "metadata": {},
   "source": [
    "### 1.1 Data Inspection"
   ]
  },
  {
   "cell_type": "code",
   "execution_count": 88,
   "metadata": {
    "colab": {
     "base_uri": "https://localhost:8080/"
    },
    "executionInfo": {
     "elapsed": 9,
     "status": "ok",
     "timestamp": 1673947985669,
     "user": {
      "displayName": "Wuraola Oyewusi",
      "userId": "00359427092648181298"
     },
     "user_tz": 0
    },
    "id": "9MHHXo-v8XN5",
    "outputId": "8703f9ce-30df-48ab-d4c9-a8a8d9195462"
   },
   "outputs": [
    {
     "name": "stdout",
     "output_type": "stream",
     "text": [
      "<class 'pandas.core.frame.DataFrame'>\n",
      "RangeIndex: 1000 entries, 0 to 999\n",
      "Data columns (total 14 columns):\n",
      " #   Column     Non-Null Count  Dtype  \n",
      "---  ------     --------------  -----  \n",
      " 0   ID         1000 non-null   int64  \n",
      " 1   No_Pation  1000 non-null   int64  \n",
      " 2   Gender     1000 non-null   object \n",
      " 3   AGE        1000 non-null   int64  \n",
      " 4   Urea       1000 non-null   float64\n",
      " 5   Cr         1000 non-null   int64  \n",
      " 6   HbA1c      1000 non-null   float64\n",
      " 7   Chol       1000 non-null   float64\n",
      " 8   TG         1000 non-null   float64\n",
      " 9   HDL        1000 non-null   float64\n",
      " 10  LDL        1000 non-null   float64\n",
      " 11  VLDL       1000 non-null   float64\n",
      " 12  BMI        1000 non-null   float64\n",
      " 13  CLASS      1000 non-null   object \n",
      "dtypes: float64(8), int64(4), object(2)\n",
      "memory usage: 109.5+ KB\n"
     ]
    }
   ],
   "source": [
    "df_diabetes.info()"
   ]
  },
  {
   "cell_type": "code",
   "execution_count": 89,
   "metadata": {
    "colab": {
     "base_uri": "https://localhost:8080/"
    },
    "executionInfo": {
     "elapsed": 263,
     "status": "ok",
     "timestamp": 1673947985928,
     "user": {
      "displayName": "Wuraola Oyewusi",
      "userId": "00359427092648181298"
     },
     "user_tz": 0
    },
    "id": "icZlSIaA965z",
    "outputId": "f28f2a9e-1a86-452b-bfff-0931aa9bc17c"
   },
   "outputs": [
    {
     "name": "stdout",
     "output_type": "stream",
     "text": [
      "Number of unique IDs: 800\n",
      "Number of unique Classes: 5\n",
      "Number of unique Genders: 3\n"
     ]
    }
   ],
   "source": [
    "print ('Number of unique IDs: ' + str(df_diabetes['ID'].nunique())\n",
    "       + '\\nNumber of unique Classes: ' + str(df_diabetes['CLASS'].nunique())\n",
    "       + '\\nNumber of unique Genders: ' + str(df_diabetes['Gender'].nunique())\n",
    "      )\n"
   ]
  },
  {
   "cell_type": "code",
   "execution_count": 90,
   "metadata": {
    "colab": {
     "base_uri": "https://localhost:8080/"
    },
    "executionInfo": {
     "elapsed": 18,
     "status": "ok",
     "timestamp": 1673947985929,
     "user": {
      "displayName": "Wuraola Oyewusi",
      "userId": "00359427092648181298"
     },
     "user_tz": 0
    },
    "id": "6Trq1D1fDXdm",
    "outputId": "278e821a-9a99-4a11-b106-5e2fc5c7620a"
   },
   "outputs": [
    {
     "name": "stdout",
     "output_type": "stream",
     "text": [
      "Distinct Class Values\n"
     ]
    },
    {
     "data": {
      "text/plain": [
       "CLASS\n",
       "Y     840\n",
       "N     102\n",
       "P      53\n",
       "Y       4\n",
       "N       1\n",
       "Name: count, dtype: int64"
      ]
     },
     "execution_count": 90,
     "metadata": {},
     "output_type": "execute_result"
    }
   ],
   "source": [
    "print('Distinct Class Values')\n",
    "df_diabetes['CLASS'].value_counts()"
   ]
  },
  {
   "cell_type": "code",
   "execution_count": 91,
   "metadata": {
    "colab": {
     "base_uri": "https://localhost:8080/"
    },
    "executionInfo": {
     "elapsed": 15,
     "status": "ok",
     "timestamp": 1673947985929,
     "user": {
      "displayName": "Wuraola Oyewusi",
      "userId": "00359427092648181298"
     },
     "user_tz": 0
    },
    "id": "khSSMppmDikE",
    "outputId": "cc6f3dc7-a860-4257-ce1c-6035df261b08"
   },
   "outputs": [
    {
     "data": {
      "text/plain": [
       "array(['N', 'N ', 'P', 'Y', 'Y '], dtype=object)"
      ]
     },
     "execution_count": 91,
     "metadata": {},
     "output_type": "execute_result"
    }
   ],
   "source": [
    "df_diabetes['CLASS'].unique()"
   ]
  },
  {
   "cell_type": "code",
   "execution_count": 92,
   "metadata": {
    "colab": {
     "base_uri": "https://localhost:8080/"
    },
    "executionInfo": {
     "elapsed": 13,
     "status": "ok",
     "timestamp": 1673947985929,
     "user": {
      "displayName": "Wuraola Oyewusi",
      "userId": "00359427092648181298"
     },
     "user_tz": 0
    },
    "id": "H8wlBA53EinL",
    "outputId": "ce0abd32-35de-46e7-e930-82af554abaa3"
   },
   "outputs": [
    {
     "data": {
      "text/plain": [
       "CLASS\n",
       "Y    844\n",
       "N    103\n",
       "P     53\n",
       "Name: count, dtype: int64"
      ]
     },
     "execution_count": 92,
     "metadata": {},
     "output_type": "execute_result"
    }
   ],
   "source": [
    "df_diabetes['CLASS'] = df_diabetes['CLASS'].str.replace(' ', '') #removing the space in class variables\n",
    "df_diabetes['CLASS'].value_counts()"
   ]
  },
  {
   "cell_type": "code",
   "execution_count": 93,
   "metadata": {
    "colab": {
     "base_uri": "https://localhost:8080/"
    },
    "executionInfo": {
     "elapsed": 9,
     "status": "ok",
     "timestamp": 1673947985930,
     "user": {
      "displayName": "Wuraola Oyewusi",
      "userId": "00359427092648181298"
     },
     "user_tz": 0
    },
    "id": "U882KTWCDG1I",
    "outputId": "5d80ca79-775e-4ff5-e658-9d8edf49d190"
   },
   "outputs": [
    {
     "data": {
      "text/plain": [
       "Gender\n",
       "M    565\n",
       "F    434\n",
       "f      1\n",
       "Name: count, dtype: int64"
      ]
     },
     "execution_count": 93,
     "metadata": {},
     "output_type": "execute_result"
    }
   ],
   "source": [
    "df_diabetes['Gender'].value_counts()"
   ]
  },
  {
   "cell_type": "code",
   "execution_count": 94,
   "metadata": {
    "colab": {
     "base_uri": "https://localhost:8080/"
    },
    "executionInfo": {
     "elapsed": 246,
     "status": "ok",
     "timestamp": 1673947986170,
     "user": {
      "displayName": "Wuraola Oyewusi",
      "userId": "00359427092648181298"
     },
     "user_tz": 0
    },
    "id": "I0vSbEq3FRY-",
    "outputId": "2aeacddb-d70f-45b0-b6b4-6a7b19c11322"
   },
   "outputs": [
    {
     "data": {
      "text/plain": [
       "Gender\n",
       "M    565\n",
       "F    435\n",
       "Name: count, dtype: int64"
      ]
     },
     "execution_count": 94,
     "metadata": {},
     "output_type": "execute_result"
    }
   ],
   "source": [
    "df_diabetes['Gender'] = df_diabetes['Gender'].apply(str.upper)\n",
    "df_diabetes['Gender'].value_counts()"
   ]
  },
  {
   "cell_type": "code",
   "execution_count": 95,
   "metadata": {
    "colab": {
     "base_uri": "https://localhost:8080/"
    },
    "executionInfo": {
     "elapsed": 7,
     "status": "ok",
     "timestamp": 1673947986474,
     "user": {
      "displayName": "Wuraola Oyewusi",
      "userId": "00359427092648181298"
     },
     "user_tz": 0
    },
    "id": "UaJy3e2FMsdO",
    "outputId": "cecdac8d-413a-4765-8730-ac0b4c9eb034"
   },
   "outputs": [
    {
     "data": {
      "text/plain": [
       "50"
      ]
     },
     "execution_count": 95,
     "metadata": {},
     "output_type": "execute_result"
    }
   ],
   "source": [
    "df_diabetes['AGE'].nunique()"
   ]
  },
  {
   "cell_type": "code",
   "execution_count": 96,
   "metadata": {
    "colab": {
     "base_uri": "https://localhost:8080/"
    },
    "executionInfo": {
     "elapsed": 7,
     "status": "ok",
     "timestamp": 1673947986475,
     "user": {
      "displayName": "Wuraola Oyewusi",
      "userId": "00359427092648181298"
     },
     "user_tz": 0
    },
    "id": "EnTykVbiHP2C",
    "outputId": "c74692a2-0b9b-4f01-ff58-56a41e03ef20"
   },
   "outputs": [
    {
     "data": {
      "text/html": [
       "<div>\n",
       "<style scoped>\n",
       "    .dataframe tbody tr th:only-of-type {\n",
       "        vertical-align: middle;\n",
       "    }\n",
       "\n",
       "    .dataframe tbody tr th {\n",
       "        vertical-align: top;\n",
       "    }\n",
       "\n",
       "    .dataframe thead th {\n",
       "        text-align: right;\n",
       "    }\n",
       "</style>\n",
       "<table border=\"1\" class=\"dataframe\">\n",
       "  <thead>\n",
       "    <tr style=\"text-align: right;\">\n",
       "      <th></th>\n",
       "      <th>ID</th>\n",
       "      <th>No_Pation</th>\n",
       "      <th>Gender</th>\n",
       "      <th>AGE</th>\n",
       "      <th>Urea</th>\n",
       "      <th>Cr</th>\n",
       "      <th>HbA1c</th>\n",
       "      <th>Chol</th>\n",
       "      <th>TG</th>\n",
       "      <th>HDL</th>\n",
       "      <th>LDL</th>\n",
       "      <th>VLDL</th>\n",
       "      <th>BMI</th>\n",
       "      <th>CLASS</th>\n",
       "      <th>age_range</th>\n",
       "    </tr>\n",
       "  </thead>\n",
       "  <tbody>\n",
       "    <tr>\n",
       "      <th>0</th>\n",
       "      <td>502</td>\n",
       "      <td>17975</td>\n",
       "      <td>F</td>\n",
       "      <td>50</td>\n",
       "      <td>4.7</td>\n",
       "      <td>46</td>\n",
       "      <td>4.9</td>\n",
       "      <td>4.2</td>\n",
       "      <td>0.9</td>\n",
       "      <td>2.4</td>\n",
       "      <td>1.4</td>\n",
       "      <td>0.5</td>\n",
       "      <td>24.0</td>\n",
       "      <td>N</td>\n",
       "      <td>60 - 70</td>\n",
       "    </tr>\n",
       "    <tr>\n",
       "      <th>1</th>\n",
       "      <td>735</td>\n",
       "      <td>34221</td>\n",
       "      <td>M</td>\n",
       "      <td>26</td>\n",
       "      <td>4.5</td>\n",
       "      <td>62</td>\n",
       "      <td>4.9</td>\n",
       "      <td>3.7</td>\n",
       "      <td>1.4</td>\n",
       "      <td>1.1</td>\n",
       "      <td>2.1</td>\n",
       "      <td>0.6</td>\n",
       "      <td>23.0</td>\n",
       "      <td>N</td>\n",
       "      <td>20 - 30</td>\n",
       "    </tr>\n",
       "    <tr>\n",
       "      <th>2</th>\n",
       "      <td>420</td>\n",
       "      <td>47975</td>\n",
       "      <td>F</td>\n",
       "      <td>50</td>\n",
       "      <td>4.7</td>\n",
       "      <td>46</td>\n",
       "      <td>4.9</td>\n",
       "      <td>4.2</td>\n",
       "      <td>0.9</td>\n",
       "      <td>2.4</td>\n",
       "      <td>1.4</td>\n",
       "      <td>0.5</td>\n",
       "      <td>24.0</td>\n",
       "      <td>N</td>\n",
       "      <td>60 - 70</td>\n",
       "    </tr>\n",
       "    <tr>\n",
       "      <th>3</th>\n",
       "      <td>680</td>\n",
       "      <td>87656</td>\n",
       "      <td>F</td>\n",
       "      <td>50</td>\n",
       "      <td>4.7</td>\n",
       "      <td>46</td>\n",
       "      <td>4.9</td>\n",
       "      <td>4.2</td>\n",
       "      <td>0.9</td>\n",
       "      <td>2.4</td>\n",
       "      <td>1.4</td>\n",
       "      <td>0.5</td>\n",
       "      <td>24.0</td>\n",
       "      <td>N</td>\n",
       "      <td>60 - 70</td>\n",
       "    </tr>\n",
       "    <tr>\n",
       "      <th>4</th>\n",
       "      <td>504</td>\n",
       "      <td>34223</td>\n",
       "      <td>M</td>\n",
       "      <td>33</td>\n",
       "      <td>7.1</td>\n",
       "      <td>46</td>\n",
       "      <td>4.9</td>\n",
       "      <td>4.9</td>\n",
       "      <td>1.0</td>\n",
       "      <td>0.8</td>\n",
       "      <td>2.0</td>\n",
       "      <td>0.4</td>\n",
       "      <td>21.0</td>\n",
       "      <td>N</td>\n",
       "      <td>30 - 40</td>\n",
       "    </tr>\n",
       "    <tr>\n",
       "      <th>...</th>\n",
       "      <td>...</td>\n",
       "      <td>...</td>\n",
       "      <td>...</td>\n",
       "      <td>...</td>\n",
       "      <td>...</td>\n",
       "      <td>...</td>\n",
       "      <td>...</td>\n",
       "      <td>...</td>\n",
       "      <td>...</td>\n",
       "      <td>...</td>\n",
       "      <td>...</td>\n",
       "      <td>...</td>\n",
       "      <td>...</td>\n",
       "      <td>...</td>\n",
       "      <td>...</td>\n",
       "    </tr>\n",
       "    <tr>\n",
       "      <th>995</th>\n",
       "      <td>200</td>\n",
       "      <td>454317</td>\n",
       "      <td>M</td>\n",
       "      <td>71</td>\n",
       "      <td>11.0</td>\n",
       "      <td>97</td>\n",
       "      <td>7.0</td>\n",
       "      <td>7.5</td>\n",
       "      <td>1.7</td>\n",
       "      <td>1.2</td>\n",
       "      <td>1.8</td>\n",
       "      <td>0.6</td>\n",
       "      <td>30.0</td>\n",
       "      <td>Y</td>\n",
       "      <td>80 - 90</td>\n",
       "    </tr>\n",
       "    <tr>\n",
       "      <th>996</th>\n",
       "      <td>671</td>\n",
       "      <td>876534</td>\n",
       "      <td>M</td>\n",
       "      <td>31</td>\n",
       "      <td>3.0</td>\n",
       "      <td>60</td>\n",
       "      <td>12.3</td>\n",
       "      <td>4.1</td>\n",
       "      <td>2.2</td>\n",
       "      <td>0.7</td>\n",
       "      <td>2.4</td>\n",
       "      <td>15.4</td>\n",
       "      <td>37.2</td>\n",
       "      <td>Y</td>\n",
       "      <td>30 - 40</td>\n",
       "    </tr>\n",
       "    <tr>\n",
       "      <th>997</th>\n",
       "      <td>669</td>\n",
       "      <td>87654</td>\n",
       "      <td>M</td>\n",
       "      <td>30</td>\n",
       "      <td>7.1</td>\n",
       "      <td>81</td>\n",
       "      <td>6.7</td>\n",
       "      <td>4.1</td>\n",
       "      <td>1.1</td>\n",
       "      <td>1.2</td>\n",
       "      <td>2.4</td>\n",
       "      <td>8.1</td>\n",
       "      <td>27.4</td>\n",
       "      <td>Y</td>\n",
       "      <td>30 - 40</td>\n",
       "    </tr>\n",
       "    <tr>\n",
       "      <th>998</th>\n",
       "      <td>99</td>\n",
       "      <td>24004</td>\n",
       "      <td>M</td>\n",
       "      <td>38</td>\n",
       "      <td>5.8</td>\n",
       "      <td>59</td>\n",
       "      <td>6.7</td>\n",
       "      <td>5.3</td>\n",
       "      <td>2.0</td>\n",
       "      <td>1.6</td>\n",
       "      <td>2.9</td>\n",
       "      <td>14.0</td>\n",
       "      <td>40.5</td>\n",
       "      <td>Y</td>\n",
       "      <td>40 - 50</td>\n",
       "    </tr>\n",
       "    <tr>\n",
       "      <th>999</th>\n",
       "      <td>248</td>\n",
       "      <td>24054</td>\n",
       "      <td>M</td>\n",
       "      <td>54</td>\n",
       "      <td>5.0</td>\n",
       "      <td>67</td>\n",
       "      <td>6.9</td>\n",
       "      <td>3.8</td>\n",
       "      <td>1.7</td>\n",
       "      <td>1.1</td>\n",
       "      <td>3.0</td>\n",
       "      <td>0.7</td>\n",
       "      <td>33.0</td>\n",
       "      <td>Y</td>\n",
       "      <td>60 - 70</td>\n",
       "    </tr>\n",
       "  </tbody>\n",
       "</table>\n",
       "<p>1000 rows × 15 columns</p>\n",
       "</div>"
      ],
      "text/plain": [
       "      ID  No_Pation Gender  AGE  Urea  Cr  HbA1c  Chol   TG  HDL  LDL  VLDL  \\\n",
       "0    502      17975      F   50   4.7  46    4.9   4.2  0.9  2.4  1.4   0.5   \n",
       "1    735      34221      M   26   4.5  62    4.9   3.7  1.4  1.1  2.1   0.6   \n",
       "2    420      47975      F   50   4.7  46    4.9   4.2  0.9  2.4  1.4   0.5   \n",
       "3    680      87656      F   50   4.7  46    4.9   4.2  0.9  2.4  1.4   0.5   \n",
       "4    504      34223      M   33   7.1  46    4.9   4.9  1.0  0.8  2.0   0.4   \n",
       "..   ...        ...    ...  ...   ...  ..    ...   ...  ...  ...  ...   ...   \n",
       "995  200     454317      M   71  11.0  97    7.0   7.5  1.7  1.2  1.8   0.6   \n",
       "996  671     876534      M   31   3.0  60   12.3   4.1  2.2  0.7  2.4  15.4   \n",
       "997  669      87654      M   30   7.1  81    6.7   4.1  1.1  1.2  2.4   8.1   \n",
       "998   99      24004      M   38   5.8  59    6.7   5.3  2.0  1.6  2.9  14.0   \n",
       "999  248      24054      M   54   5.0  67    6.9   3.8  1.7  1.1  3.0   0.7   \n",
       "\n",
       "      BMI CLASS age_range  \n",
       "0    24.0     N   60 - 70  \n",
       "1    23.0     N   20 - 30  \n",
       "2    24.0     N   60 - 70  \n",
       "3    24.0     N   60 - 70  \n",
       "4    21.0     N   30 - 40  \n",
       "..    ...   ...       ...  \n",
       "995  30.0     Y   80 - 90  \n",
       "996  37.2     Y   30 - 40  \n",
       "997  27.4     Y   30 - 40  \n",
       "998  40.5     Y   40 - 50  \n",
       "999  33.0     Y   60 - 70  \n",
       "\n",
       "[1000 rows x 15 columns]"
      ]
     },
     "execution_count": 96,
     "metadata": {},
     "output_type": "execute_result"
    }
   ],
   "source": [
    "#Appending age range bucket to exisiting dataframe\n",
    "age_range_buckets = [\"{0} - {1}\".format(age, age + 10) for age in range(20, 100, 10)]\n",
    "df_diabetes['age_range'] = pd.cut(x=df_diabetes['AGE'], bins=8, labels=age_range_buckets)\n",
    "df_diabetes"
   ]
  },
  {
   "cell_type": "code",
   "execution_count": 97,
   "metadata": {
    "colab": {
     "base_uri": "https://localhost:8080/"
    },
    "executionInfo": {
     "elapsed": 16,
     "status": "ok",
     "timestamp": 1673947986771,
     "user": {
      "displayName": "Wuraola Oyewusi",
      "userId": "00359427092648181298"
     },
     "user_tz": 0
    },
    "id": "jX-knDwENEtY",
    "outputId": "cbc61a8f-dea9-4724-e496-3e91fee8ca0f"
   },
   "outputs": [
    {
     "data": {
      "text/plain": [
       "age_range\n",
       "60 - 70     476\n",
       "70 - 80     274\n",
       "50 - 60      79\n",
       "40 - 50      58\n",
       "30 - 40      54\n",
       "80 - 90      36\n",
       "90 - 100     19\n",
       "20 - 30       4\n",
       "Name: count, dtype: int64"
      ]
     },
     "execution_count": 97,
     "metadata": {},
     "output_type": "execute_result"
    }
   ],
   "source": [
    "df_diabetes['age_range'].value_counts()"
   ]
  },
  {
   "cell_type": "markdown",
   "metadata": {},
   "source": [
    "### 1.2 Data Visualization "
   ]
  },
  {
   "cell_type": "code",
   "execution_count": 54,
   "metadata": {},
   "outputs": [],
   "source": [
    "import seaborn as sns\n",
    "import matplotlib.pyplot as plt"
   ]
  },
  {
   "cell_type": "code",
   "execution_count": 81,
   "metadata": {
    "colab": {
     "base_uri": "https://localhost:8080/",
     "height": 281
    },
    "executionInfo": {
     "elapsed": 313,
     "status": "ok",
     "timestamp": 1673947986473,
     "user": {
      "displayName": "Wuraola Oyewusi",
      "userId": "00359427092648181298"
     },
     "user_tz": 0
    },
    "id": "Es7FJnOXHAra",
    "outputId": "1d8f91d6-f4c5-4d03-a03f-df0059be18d7"
   },
   "outputs": [
    {
     "data": {
      "text/plain": [
       "<Axes: xlabel='Gender'>"
      ]
     },
     "execution_count": 81,
     "metadata": {},
     "output_type": "execute_result"
    },
    {
     "data": {
      "image/png": "[encoded data removed]",
      "text/plain": [
       "<Figure size 640x480 with 1 Axes>"
      ]
     },
     "metadata": {},
     "output_type": "display_data"
    }
   ],
   "source": [
    "df_diabetes['Gender'].value_counts().plot(kind = 'bar')"
   ]
  },
  {
   "cell_type": "markdown",
   "metadata": {},
   "source": [
    "### 1.3 Data Preprocessing"
   ]
  },
  {
   "cell_type": "code",
   "execution_count": 101,
   "metadata": {
    "id": "8WDGjdEkNRhf"
   },
   "outputs": [],
   "source": [
    "from sklearn.preprocessing import LabelEncoder\n",
    "#df2 = df_diabetes.drop(['ID','No_Pation','AGE'], axis=1)\n",
    "df2 = df_diabetes\n",
    "\n",
    "le1 = LabelEncoder()\n",
    "df2['Gender'] =le1.fit_transform(df2['Gender'])\n",
    "le2 = LabelEncoder()\n",
    "df2['CLASS'] =le2.fit_transform(df2['CLASS'])\n",
    "le3 = LabelEncoder()\n",
    "df2['age_range'] =le3.fit_transform(df2['age_range'])\n",
    "correlation_values = df2.corr()"
   ]
  },
  {
   "cell_type": "code",
   "execution_count": 102,
   "metadata": {
    "colab": {
     "base_uri": "https://localhost:8080/",
     "height": 426
    },
    "executionInfo": {
     "elapsed": 12,
     "status": "ok",
     "timestamp": 1673947986772,
     "user": {
      "displayName": "Wuraola Oyewusi",
      "userId": "00359427092648181298"
     },
     "user_tz": 0
    },
    "id": "jdNjbtVDOVyq",
    "outputId": "c1437472-a743-4c49-a286-4eb714729843"
   },
   "outputs": [
    {
     "data": {
      "text/html": [
       "<div>\n",
       "<style scoped>\n",
       "    .dataframe tbody tr th:only-of-type {\n",
       "        vertical-align: middle;\n",
       "    }\n",
       "\n",
       "    .dataframe tbody tr th {\n",
       "        vertical-align: top;\n",
       "    }\n",
       "\n",
       "    .dataframe thead th {\n",
       "        text-align: right;\n",
       "    }\n",
       "</style>\n",
       "<table border=\"1\" class=\"dataframe\">\n",
       "  <thead>\n",
       "    <tr style=\"text-align: right;\">\n",
       "      <th></th>\n",
       "      <th>ID</th>\n",
       "      <th>No_Pation</th>\n",
       "      <th>Gender</th>\n",
       "      <th>AGE</th>\n",
       "      <th>Urea</th>\n",
       "      <th>Cr</th>\n",
       "      <th>HbA1c</th>\n",
       "      <th>Chol</th>\n",
       "      <th>TG</th>\n",
       "      <th>HDL</th>\n",
       "      <th>LDL</th>\n",
       "      <th>VLDL</th>\n",
       "      <th>BMI</th>\n",
       "      <th>CLASS</th>\n",
       "      <th>age_range</th>\n",
       "    </tr>\n",
       "  </thead>\n",
       "  <tbody>\n",
       "    <tr>\n",
       "      <th>ID</th>\n",
       "      <td>1.000000</td>\n",
       "      <td>0.064920</td>\n",
       "      <td>0.018070</td>\n",
       "      <td>-0.065980</td>\n",
       "      <td>-0.094434</td>\n",
       "      <td>-0.102457</td>\n",
       "      <td>-0.007571</td>\n",
       "      <td>0.044390</td>\n",
       "      <td>-0.055908</td>\n",
       "      <td>0.026231</td>\n",
       "      <td>-0.064305</td>\n",
       "      <td>0.146142</td>\n",
       "      <td>0.049409</td>\n",
       "      <td>-0.057146</td>\n",
       "      <td>-0.066356</td>\n",
       "    </tr>\n",
       "    <tr>\n",
       "      <th>No_Pation</th>\n",
       "      <td>0.064920</td>\n",
       "      <td>1.000000</td>\n",
       "      <td>0.051795</td>\n",
       "      <td>-0.088006</td>\n",
       "      <td>-0.019160</td>\n",
       "      <td>0.000692</td>\n",
       "      <td>-0.032057</td>\n",
       "      <td>-0.030171</td>\n",
       "      <td>-0.039885</td>\n",
       "      <td>-0.013357</td>\n",
       "      <td>-0.003171</td>\n",
       "      <td>0.113754</td>\n",
       "      <td>0.017719</td>\n",
       "      <td>-0.047571</td>\n",
       "      <td>-0.083628</td>\n",
       "    </tr>\n",
       "    <tr>\n",
       "      <th>Gender</th>\n",
       "      <td>0.018070</td>\n",
       "      <td>0.051795</td>\n",
       "      <td>1.000000</td>\n",
       "      <td>0.021486</td>\n",
       "      <td>0.116311</td>\n",
       "      <td>0.154870</td>\n",
       "      <td>-0.009362</td>\n",
       "      <td>-0.064763</td>\n",
       "      <td>0.052111</td>\n",
       "      <td>-0.130130</td>\n",
       "      <td>0.054563</td>\n",
       "      <td>0.194120</td>\n",
       "      <td>0.072097</td>\n",
       "      <td>0.103397</td>\n",
       "      <td>0.023543</td>\n",
       "    </tr>\n",
       "    <tr>\n",
       "      <th>AGE</th>\n",
       "      <td>-0.065980</td>\n",
       "      <td>-0.088006</td>\n",
       "      <td>0.021486</td>\n",
       "      <td>1.000000</td>\n",
       "      <td>0.105092</td>\n",
       "      <td>0.054941</td>\n",
       "      <td>0.379136</td>\n",
       "      <td>0.036649</td>\n",
       "      <td>0.148204</td>\n",
       "      <td>-0.020038</td>\n",
       "      <td>0.016105</td>\n",
       "      <td>-0.087903</td>\n",
       "      <td>0.375956</td>\n",
       "      <td>0.443009</td>\n",
       "      <td>0.975731</td>\n",
       "    </tr>\n",
       "    <tr>\n",
       "      <th>Urea</th>\n",
       "      <td>-0.094434</td>\n",
       "      <td>-0.019160</td>\n",
       "      <td>0.116311</td>\n",
       "      <td>0.105092</td>\n",
       "      <td>1.000000</td>\n",
       "      <td>0.624134</td>\n",
       "      <td>-0.023603</td>\n",
       "      <td>0.001852</td>\n",
       "      <td>0.040980</td>\n",
       "      <td>-0.036994</td>\n",
       "      <td>-0.007301</td>\n",
       "      <td>-0.011191</td>\n",
       "      <td>0.045618</td>\n",
       "      <td>0.067010</td>\n",
       "      <td>0.106910</td>\n",
       "    </tr>\n",
       "    <tr>\n",
       "      <th>Cr</th>\n",
       "      <td>-0.102457</td>\n",
       "      <td>0.000692</td>\n",
       "      <td>0.154870</td>\n",
       "      <td>0.054941</td>\n",
       "      <td>0.624134</td>\n",
       "      <td>1.000000</td>\n",
       "      <td>-0.037412</td>\n",
       "      <td>-0.007097</td>\n",
       "      <td>0.056579</td>\n",
       "      <td>-0.023804</td>\n",
       "      <td>0.039479</td>\n",
       "      <td>0.009615</td>\n",
       "      <td>0.054746</td>\n",
       "      <td>0.037500</td>\n",
       "      <td>0.063510</td>\n",
       "    </tr>\n",
       "    <tr>\n",
       "      <th>HbA1c</th>\n",
       "      <td>-0.007571</td>\n",
       "      <td>-0.032057</td>\n",
       "      <td>-0.009362</td>\n",
       "      <td>0.379136</td>\n",
       "      <td>-0.023603</td>\n",
       "      <td>-0.037412</td>\n",
       "      <td>1.000000</td>\n",
       "      <td>0.177489</td>\n",
       "      <td>0.218556</td>\n",
       "      <td>0.028933</td>\n",
       "      <td>0.011057</td>\n",
       "      <td>0.073462</td>\n",
       "      <td>0.413350</td>\n",
       "      <td>0.555321</td>\n",
       "      <td>0.365895</td>\n",
       "    </tr>\n",
       "    <tr>\n",
       "      <th>Chol</th>\n",
       "      <td>0.044390</td>\n",
       "      <td>-0.030171</td>\n",
       "      <td>-0.064763</td>\n",
       "      <td>0.036649</td>\n",
       "      <td>0.001852</td>\n",
       "      <td>-0.007097</td>\n",
       "      <td>0.177489</td>\n",
       "      <td>1.000000</td>\n",
       "      <td>0.321789</td>\n",
       "      <td>0.103814</td>\n",
       "      <td>0.416665</td>\n",
       "      <td>0.076294</td>\n",
       "      <td>0.013678</td>\n",
       "      <td>0.167375</td>\n",
       "      <td>0.026507</td>\n",
       "    </tr>\n",
       "    <tr>\n",
       "      <th>TG</th>\n",
       "      <td>-0.055908</td>\n",
       "      <td>-0.039885</td>\n",
       "      <td>0.052111</td>\n",
       "      <td>0.148204</td>\n",
       "      <td>0.040980</td>\n",
       "      <td>0.056579</td>\n",
       "      <td>0.218556</td>\n",
       "      <td>0.321789</td>\n",
       "      <td>1.000000</td>\n",
       "      <td>-0.083001</td>\n",
       "      <td>0.015378</td>\n",
       "      <td>0.144570</td>\n",
       "      <td>0.110757</td>\n",
       "      <td>0.182299</td>\n",
       "      <td>0.146934</td>\n",
       "    </tr>\n",
       "    <tr>\n",
       "      <th>HDL</th>\n",
       "      <td>0.026231</td>\n",
       "      <td>-0.013357</td>\n",
       "      <td>-0.130130</td>\n",
       "      <td>-0.020038</td>\n",
       "      <td>-0.036994</td>\n",
       "      <td>-0.023804</td>\n",
       "      <td>0.028933</td>\n",
       "      <td>0.103814</td>\n",
       "      <td>-0.083001</td>\n",
       "      <td>1.000000</td>\n",
       "      <td>-0.142079</td>\n",
       "      <td>-0.059275</td>\n",
       "      <td>0.072409</td>\n",
       "      <td>-0.001248</td>\n",
       "      <td>-0.015973</td>\n",
       "    </tr>\n",
       "    <tr>\n",
       "      <th>LDL</th>\n",
       "      <td>-0.064305</td>\n",
       "      <td>-0.003171</td>\n",
       "      <td>0.054563</td>\n",
       "      <td>0.016105</td>\n",
       "      <td>-0.007301</td>\n",
       "      <td>0.039479</td>\n",
       "      <td>0.011057</td>\n",
       "      <td>0.416665</td>\n",
       "      <td>0.015378</td>\n",
       "      <td>-0.142079</td>\n",
       "      <td>1.000000</td>\n",
       "      <td>0.062795</td>\n",
       "      <td>-0.067322</td>\n",
       "      <td>0.004247</td>\n",
       "      <td>0.011297</td>\n",
       "    </tr>\n",
       "    <tr>\n",
       "      <th>VLDL</th>\n",
       "      <td>0.146142</td>\n",
       "      <td>0.113754</td>\n",
       "      <td>0.194120</td>\n",
       "      <td>-0.087903</td>\n",
       "      <td>-0.011191</td>\n",
       "      <td>0.009615</td>\n",
       "      <td>0.073462</td>\n",
       "      <td>0.076294</td>\n",
       "      <td>0.144570</td>\n",
       "      <td>-0.059275</td>\n",
       "      <td>0.062795</td>\n",
       "      <td>1.000000</td>\n",
       "      <td>0.198133</td>\n",
       "      <td>0.101247</td>\n",
       "      <td>-0.108358</td>\n",
       "    </tr>\n",
       "    <tr>\n",
       "      <th>BMI</th>\n",
       "      <td>0.049409</td>\n",
       "      <td>0.017719</td>\n",
       "      <td>0.072097</td>\n",
       "      <td>0.375956</td>\n",
       "      <td>0.045618</td>\n",
       "      <td>0.054746</td>\n",
       "      <td>0.413350</td>\n",
       "      <td>0.013678</td>\n",
       "      <td>0.110757</td>\n",
       "      <td>0.072409</td>\n",
       "      <td>-0.067322</td>\n",
       "      <td>0.198133</td>\n",
       "      <td>1.000000</td>\n",
       "      <td>0.569879</td>\n",
       "      <td>0.359005</td>\n",
       "    </tr>\n",
       "    <tr>\n",
       "      <th>CLASS</th>\n",
       "      <td>-0.057146</td>\n",
       "      <td>-0.047571</td>\n",
       "      <td>0.103397</td>\n",
       "      <td>0.443009</td>\n",
       "      <td>0.067010</td>\n",
       "      <td>0.037500</td>\n",
       "      <td>0.555321</td>\n",
       "      <td>0.167375</td>\n",
       "      <td>0.182299</td>\n",
       "      <td>-0.001248</td>\n",
       "      <td>0.004247</td>\n",
       "      <td>0.101247</td>\n",
       "      <td>0.569879</td>\n",
       "      <td>1.000000</td>\n",
       "      <td>0.419789</td>\n",
       "    </tr>\n",
       "    <tr>\n",
       "      <th>age_range</th>\n",
       "      <td>-0.066356</td>\n",
       "      <td>-0.083628</td>\n",
       "      <td>0.023543</td>\n",
       "      <td>0.975731</td>\n",
       "      <td>0.106910</td>\n",
       "      <td>0.063510</td>\n",
       "      <td>0.365895</td>\n",
       "      <td>0.026507</td>\n",
       "      <td>0.146934</td>\n",
       "      <td>-0.015973</td>\n",
       "      <td>0.011297</td>\n",
       "      <td>-0.108358</td>\n",
       "      <td>0.359005</td>\n",
       "      <td>0.419789</td>\n",
       "      <td>1.000000</td>\n",
       "    </tr>\n",
       "  </tbody>\n",
       "</table>\n",
       "</div>"
      ],
      "text/plain": [
       "                 ID  No_Pation    Gender       AGE      Urea        Cr  \\\n",
       "ID         1.000000   0.064920  0.018070 -0.065980 -0.094434 -0.102457   \n",
       "No_Pation  0.064920   1.000000  0.051795 -0.088006 -0.019160  0.000692   \n",
       "Gender     0.018070   0.051795  1.000000  0.021486  0.116311  0.154870   \n",
       "AGE       -0.065980  -0.088006  0.021486  1.000000  0.105092  0.054941   \n",
       "Urea      -0.094434  -0.019160  0.116311  0.105092  1.000000  0.624134   \n",
       "Cr        -0.102457   0.000692  0.154870  0.054941  0.624134  1.000000   \n",
       "HbA1c     -0.007571  -0.032057 -0.009362  0.379136 -0.023603 -0.037412   \n",
       "Chol       0.044390  -0.030171 -0.064763  0.036649  0.001852 -0.007097   \n",
       "TG        -0.055908  -0.039885  0.052111  0.148204  0.040980  0.056579   \n",
       "HDL        0.026231  -0.013357 -0.130130 -0.020038 -0.036994 -0.023804   \n",
       "LDL       -0.064305  -0.003171  0.054563  0.016105 -0.007301  0.039479   \n",
       "VLDL       0.146142   0.113754  0.194120 -0.087903 -0.011191  0.009615   \n",
       "BMI        0.049409   0.017719  0.072097  0.375956  0.045618  0.054746   \n",
       "CLASS     -0.057146  -0.047571  0.103397  0.443009  0.067010  0.037500   \n",
       "age_range -0.066356  -0.083628  0.023543  0.975731  0.106910  0.063510   \n",
       "\n",
       "              HbA1c      Chol        TG       HDL       LDL      VLDL  \\\n",
       "ID        -0.007571  0.044390 -0.055908  0.026231 -0.064305  0.146142   \n",
       "No_Pation -0.032057 -0.030171 -0.039885 -0.013357 -0.003171  0.113754   \n",
       "Gender    -0.009362 -0.064763  0.052111 -0.130130  0.054563  0.194120   \n",
       "AGE        0.379136  0.036649  0.148204 -0.020038  0.016105 -0.087903   \n",
       "Urea      -0.023603  0.001852  0.040980 -0.036994 -0.007301 -0.011191   \n",
       "Cr        -0.037412 -0.007097  0.056579 -0.023804  0.039479  0.009615   \n",
       "HbA1c      1.000000  0.177489  0.218556  0.028933  0.011057  0.073462   \n",
       "Chol       0.177489  1.000000  0.321789  0.103814  0.416665  0.076294   \n",
       "TG         0.218556  0.321789  1.000000 -0.083001  0.015378  0.144570   \n",
       "HDL        0.028933  0.103814 -0.083001  1.000000 -0.142079 -0.059275   \n",
       "LDL        0.011057  0.416665  0.015378 -0.142079  1.000000  0.062795   \n",
       "VLDL       0.073462  0.076294  0.144570 -0.059275  0.062795  1.000000   \n",
       "BMI        0.413350  0.013678  0.110757  0.072409 -0.067322  0.198133   \n",
       "CLASS      0.555321  0.167375  0.182299 -0.001248  0.004247  0.101247   \n",
       "age_range  0.365895  0.026507  0.146934 -0.015973  0.011297 -0.108358   \n",
       "\n",
       "                BMI     CLASS  age_range  \n",
       "ID         0.049409 -0.057146  -0.066356  \n",
       "No_Pation  0.017719 -0.047571  -0.083628  \n",
       "Gender     0.072097  0.103397   0.023543  \n",
       "AGE        0.375956  0.443009   0.975731  \n",
       "Urea       0.045618  0.067010   0.106910  \n",
       "Cr         0.054746  0.037500   0.063510  \n",
       "HbA1c      0.413350  0.555321   0.365895  \n",
       "Chol       0.013678  0.167375   0.026507  \n",
       "TG         0.110757  0.182299   0.146934  \n",
       "HDL        0.072409 -0.001248  -0.015973  \n",
       "LDL       -0.067322  0.004247   0.011297  \n",
       "VLDL       0.198133  0.101247  -0.108358  \n",
       "BMI        1.000000  0.569879   0.359005  \n",
       "CLASS      0.569879  1.000000   0.419789  \n",
       "age_range  0.359005  0.419789   1.000000  "
      ]
     },
     "execution_count": 102,
     "metadata": {},
     "output_type": "execute_result"
    }
   ],
   "source": [
    "correlation_values"
   ]
  },
  {
   "cell_type": "code",
   "execution_count": 103,
   "metadata": {
    "colab": {
     "base_uri": "https://localhost:8080/",
     "height": 559
    },
    "executionInfo": {
     "elapsed": 3285,
     "status": "ok",
     "timestamp": 1673947990047,
     "user": {
      "displayName": "Wuraola Oyewusi",
      "userId": "00359427092648181298"
     },
     "user_tz": 0
    },
    "id": "DAXHT9_VOYAl",
    "outputId": "7000f781-eeff-4d9e-d8d9-82695d3c8da7"
   },
   "outputs": [
    {
     "data": {
      "text/plain": [
       "<Axes: >"
      ]
     },
     "execution_count": 103,
     "metadata": {},
     "output_type": "execute_result"
    },
    {
     "data": {
      "image/png": "[encoded data removed]",
      "text/plain": [
       "<Figure size 1500x900 with 2 Axes>"
      ]
     },
     "metadata": {},
     "output_type": "display_data"
    }
   ],
   "source": [
    "plt.figure(figsize=(15,9))\n",
    "sns.heatmap(correlation_values,annot = True)"
   ]
  },
  {
   "cell_type": "code",
   "execution_count": 104,
   "metadata": {
    "colab": {
     "base_uri": "https://localhost:8080/",
     "height": 424
    },
    "executionInfo": {
     "elapsed": 24,
     "status": "ok",
     "timestamp": 1673947990048,
     "user": {
      "displayName": "Wuraola Oyewusi",
      "userId": "00359427092648181298"
     },
     "user_tz": 0
    },
    "id": "-7jV9qf0Xda9",
    "outputId": "622ebc3e-2bda-44cd-fa69-42c770df61a9"
   },
   "outputs": [
    {
     "data": {
      "text/html": [
       "<div>\n",
       "<style scoped>\n",
       "    .dataframe tbody tr th:only-of-type {\n",
       "        vertical-align: middle;\n",
       "    }\n",
       "\n",
       "    .dataframe tbody tr th {\n",
       "        vertical-align: top;\n",
       "    }\n",
       "\n",
       "    .dataframe thead th {\n",
       "        text-align: right;\n",
       "    }\n",
       "</style>\n",
       "<table border=\"1\" class=\"dataframe\">\n",
       "  <thead>\n",
       "    <tr style=\"text-align: right;\">\n",
       "      <th></th>\n",
       "      <th>Gender</th>\n",
       "      <th>Urea</th>\n",
       "      <th>Cr</th>\n",
       "      <th>HbA1c</th>\n",
       "      <th>Chol</th>\n",
       "      <th>TG</th>\n",
       "      <th>HDL</th>\n",
       "      <th>LDL</th>\n",
       "      <th>VLDL</th>\n",
       "      <th>BMI</th>\n",
       "      <th>CLASS</th>\n",
       "      <th>age_range</th>\n",
       "    </tr>\n",
       "  </thead>\n",
       "  <tbody>\n",
       "    <tr>\n",
       "      <th>0</th>\n",
       "      <td>0</td>\n",
       "      <td>4.7</td>\n",
       "      <td>46</td>\n",
       "      <td>4.9</td>\n",
       "      <td>4.2</td>\n",
       "      <td>0.9</td>\n",
       "      <td>2.4</td>\n",
       "      <td>1.4</td>\n",
       "      <td>0.5</td>\n",
       "      <td>24.0</td>\n",
       "      <td>0</td>\n",
       "      <td>4</td>\n",
       "    </tr>\n",
       "    <tr>\n",
       "      <th>1</th>\n",
       "      <td>1</td>\n",
       "      <td>4.5</td>\n",
       "      <td>62</td>\n",
       "      <td>4.9</td>\n",
       "      <td>3.7</td>\n",
       "      <td>1.4</td>\n",
       "      <td>1.1</td>\n",
       "      <td>2.1</td>\n",
       "      <td>0.6</td>\n",
       "      <td>23.0</td>\n",
       "      <td>0</td>\n",
       "      <td>0</td>\n",
       "    </tr>\n",
       "    <tr>\n",
       "      <th>2</th>\n",
       "      <td>0</td>\n",
       "      <td>4.7</td>\n",
       "      <td>46</td>\n",
       "      <td>4.9</td>\n",
       "      <td>4.2</td>\n",
       "      <td>0.9</td>\n",
       "      <td>2.4</td>\n",
       "      <td>1.4</td>\n",
       "      <td>0.5</td>\n",
       "      <td>24.0</td>\n",
       "      <td>0</td>\n",
       "      <td>4</td>\n",
       "    </tr>\n",
       "    <tr>\n",
       "      <th>3</th>\n",
       "      <td>0</td>\n",
       "      <td>4.7</td>\n",
       "      <td>46</td>\n",
       "      <td>4.9</td>\n",
       "      <td>4.2</td>\n",
       "      <td>0.9</td>\n",
       "      <td>2.4</td>\n",
       "      <td>1.4</td>\n",
       "      <td>0.5</td>\n",
       "      <td>24.0</td>\n",
       "      <td>0</td>\n",
       "      <td>4</td>\n",
       "    </tr>\n",
       "    <tr>\n",
       "      <th>4</th>\n",
       "      <td>1</td>\n",
       "      <td>7.1</td>\n",
       "      <td>46</td>\n",
       "      <td>4.9</td>\n",
       "      <td>4.9</td>\n",
       "      <td>1.0</td>\n",
       "      <td>0.8</td>\n",
       "      <td>2.0</td>\n",
       "      <td>0.4</td>\n",
       "      <td>21.0</td>\n",
       "      <td>0</td>\n",
       "      <td>1</td>\n",
       "    </tr>\n",
       "    <tr>\n",
       "      <th>...</th>\n",
       "      <td>...</td>\n",
       "      <td>...</td>\n",
       "      <td>...</td>\n",
       "      <td>...</td>\n",
       "      <td>...</td>\n",
       "      <td>...</td>\n",
       "      <td>...</td>\n",
       "      <td>...</td>\n",
       "      <td>...</td>\n",
       "      <td>...</td>\n",
       "      <td>...</td>\n",
       "      <td>...</td>\n",
       "    </tr>\n",
       "    <tr>\n",
       "      <th>995</th>\n",
       "      <td>1</td>\n",
       "      <td>11.0</td>\n",
       "      <td>97</td>\n",
       "      <td>7.0</td>\n",
       "      <td>7.5</td>\n",
       "      <td>1.7</td>\n",
       "      <td>1.2</td>\n",
       "      <td>1.8</td>\n",
       "      <td>0.6</td>\n",
       "      <td>30.0</td>\n",
       "      <td>2</td>\n",
       "      <td>6</td>\n",
       "    </tr>\n",
       "    <tr>\n",
       "      <th>996</th>\n",
       "      <td>1</td>\n",
       "      <td>3.0</td>\n",
       "      <td>60</td>\n",
       "      <td>12.3</td>\n",
       "      <td>4.1</td>\n",
       "      <td>2.2</td>\n",
       "      <td>0.7</td>\n",
       "      <td>2.4</td>\n",
       "      <td>15.4</td>\n",
       "      <td>37.2</td>\n",
       "      <td>2</td>\n",
       "      <td>1</td>\n",
       "    </tr>\n",
       "    <tr>\n",
       "      <th>997</th>\n",
       "      <td>1</td>\n",
       "      <td>7.1</td>\n",
       "      <td>81</td>\n",
       "      <td>6.7</td>\n",
       "      <td>4.1</td>\n",
       "      <td>1.1</td>\n",
       "      <td>1.2</td>\n",
       "      <td>2.4</td>\n",
       "      <td>8.1</td>\n",
       "      <td>27.4</td>\n",
       "      <td>2</td>\n",
       "      <td>1</td>\n",
       "    </tr>\n",
       "    <tr>\n",
       "      <th>998</th>\n",
       "      <td>1</td>\n",
       "      <td>5.8</td>\n",
       "      <td>59</td>\n",
       "      <td>6.7</td>\n",
       "      <td>5.3</td>\n",
       "      <td>2.0</td>\n",
       "      <td>1.6</td>\n",
       "      <td>2.9</td>\n",
       "      <td>14.0</td>\n",
       "      <td>40.5</td>\n",
       "      <td>2</td>\n",
       "      <td>2</td>\n",
       "    </tr>\n",
       "    <tr>\n",
       "      <th>999</th>\n",
       "      <td>1</td>\n",
       "      <td>5.0</td>\n",
       "      <td>67</td>\n",
       "      <td>6.9</td>\n",
       "      <td>3.8</td>\n",
       "      <td>1.7</td>\n",
       "      <td>1.1</td>\n",
       "      <td>3.0</td>\n",
       "      <td>0.7</td>\n",
       "      <td>33.0</td>\n",
       "      <td>2</td>\n",
       "      <td>4</td>\n",
       "    </tr>\n",
       "  </tbody>\n",
       "</table>\n",
       "<p>1000 rows × 12 columns</p>\n",
       "</div>"
      ],
      "text/plain": [
       "     Gender  Urea  Cr  HbA1c  Chol   TG  HDL  LDL  VLDL   BMI  CLASS  \\\n",
       "0         0   4.7  46    4.9   4.2  0.9  2.4  1.4   0.5  24.0      0   \n",
       "1         1   4.5  62    4.9   3.7  1.4  1.1  2.1   0.6  23.0      0   \n",
       "2         0   4.7  46    4.9   4.2  0.9  2.4  1.4   0.5  24.0      0   \n",
       "3         0   4.7  46    4.9   4.2  0.9  2.4  1.4   0.5  24.0      0   \n",
       "4         1   7.1  46    4.9   4.9  1.0  0.8  2.0   0.4  21.0      0   \n",
       "..      ...   ...  ..    ...   ...  ...  ...  ...   ...   ...    ...   \n",
       "995       1  11.0  97    7.0   7.5  1.7  1.2  1.8   0.6  30.0      2   \n",
       "996       1   3.0  60   12.3   4.1  2.2  0.7  2.4  15.4  37.2      2   \n",
       "997       1   7.1  81    6.7   4.1  1.1  1.2  2.4   8.1  27.4      2   \n",
       "998       1   5.8  59    6.7   5.3  2.0  1.6  2.9  14.0  40.5      2   \n",
       "999       1   5.0  67    6.9   3.8  1.7  1.1  3.0   0.7  33.0      2   \n",
       "\n",
       "     age_range  \n",
       "0            4  \n",
       "1            0  \n",
       "2            4  \n",
       "3            4  \n",
       "4            1  \n",
       "..         ...  \n",
       "995          6  \n",
       "996          1  \n",
       "997          1  \n",
       "998          2  \n",
       "999          4  \n",
       "\n",
       "[1000 rows x 12 columns]"
      ]
     },
     "execution_count": 104,
     "metadata": {},
     "output_type": "execute_result"
    }
   ],
   "source": [
    "df2 = df2.drop(['ID','No_Pation','AGE'], axis=1)\n",
    "df2"
   ]
  },
  {
   "cell_type": "code",
   "execution_count": 106,
   "metadata": {
    "id": "9JfyXkfWFqyK"
   },
   "outputs": [],
   "source": [
    "from sklearn.preprocessing import MinMaxScaler\n",
    "scaler = MinMaxScaler()"
   ]
  },
  {
   "cell_type": "code",
   "execution_count": 107,
   "metadata": {
    "colab": {
     "base_uri": "https://localhost:8080/",
     "height": 424
    },
    "executionInfo": {
     "elapsed": 28,
     "status": "ok",
     "timestamp": 1673947990489,
     "user": {
      "displayName": "Wuraola Oyewusi",
      "userId": "00359427092648181298"
     },
     "user_tz": 0
    },
    "id": "eFXvgXbbE56d",
    "outputId": "85bf5653-bd90-4a82-9b11-26b20c7147a2"
   },
   "outputs": [
    {
     "data": {
      "text/html": [
       "<div>\n",
       "<style scoped>\n",
       "    .dataframe tbody tr th:only-of-type {\n",
       "        vertical-align: middle;\n",
       "    }\n",
       "\n",
       "    .dataframe tbody tr th {\n",
       "        vertical-align: top;\n",
       "    }\n",
       "\n",
       "    .dataframe thead th {\n",
       "        text-align: right;\n",
       "    }\n",
       "</style>\n",
       "<table border=\"1\" class=\"dataframe\">\n",
       "  <thead>\n",
       "    <tr style=\"text-align: right;\">\n",
       "      <th></th>\n",
       "      <th>Urea_scaled</th>\n",
       "      <th>Cr_scaled</th>\n",
       "      <th>HbA1c_scaled</th>\n",
       "      <th>Chol_scaled</th>\n",
       "      <th>TG_scaled</th>\n",
       "      <th>HDL_scaled</th>\n",
       "      <th>LDL_scaled</th>\n",
       "      <th>VLDL_scaled</th>\n",
       "      <th>BMI_scaled</th>\n",
       "    </tr>\n",
       "  </thead>\n",
       "  <tbody>\n",
       "    <tr>\n",
       "      <th>0</th>\n",
       "      <td>0.109375</td>\n",
       "      <td>0.050378</td>\n",
       "      <td>0.264901</td>\n",
       "      <td>0.407767</td>\n",
       "      <td>0.044444</td>\n",
       "      <td>0.226804</td>\n",
       "      <td>0.114583</td>\n",
       "      <td>0.011461</td>\n",
       "      <td>0.173913</td>\n",
       "    </tr>\n",
       "    <tr>\n",
       "      <th>1</th>\n",
       "      <td>0.104167</td>\n",
       "      <td>0.070529</td>\n",
       "      <td>0.264901</td>\n",
       "      <td>0.359223</td>\n",
       "      <td>0.081481</td>\n",
       "      <td>0.092784</td>\n",
       "      <td>0.187500</td>\n",
       "      <td>0.014327</td>\n",
       "      <td>0.139130</td>\n",
       "    </tr>\n",
       "    <tr>\n",
       "      <th>2</th>\n",
       "      <td>0.109375</td>\n",
       "      <td>0.050378</td>\n",
       "      <td>0.264901</td>\n",
       "      <td>0.407767</td>\n",
       "      <td>0.044444</td>\n",
       "      <td>0.226804</td>\n",
       "      <td>0.114583</td>\n",
       "      <td>0.011461</td>\n",
       "      <td>0.173913</td>\n",
       "    </tr>\n",
       "    <tr>\n",
       "      <th>3</th>\n",
       "      <td>0.109375</td>\n",
       "      <td>0.050378</td>\n",
       "      <td>0.264901</td>\n",
       "      <td>0.407767</td>\n",
       "      <td>0.044444</td>\n",
       "      <td>0.226804</td>\n",
       "      <td>0.114583</td>\n",
       "      <td>0.011461</td>\n",
       "      <td>0.173913</td>\n",
       "    </tr>\n",
       "    <tr>\n",
       "      <th>4</th>\n",
       "      <td>0.171875</td>\n",
       "      <td>0.050378</td>\n",
       "      <td>0.264901</td>\n",
       "      <td>0.475728</td>\n",
       "      <td>0.051852</td>\n",
       "      <td>0.061856</td>\n",
       "      <td>0.177083</td>\n",
       "      <td>0.008596</td>\n",
       "      <td>0.069565</td>\n",
       "    </tr>\n",
       "    <tr>\n",
       "      <th>...</th>\n",
       "      <td>...</td>\n",
       "      <td>...</td>\n",
       "      <td>...</td>\n",
       "      <td>...</td>\n",
       "      <td>...</td>\n",
       "      <td>...</td>\n",
       "      <td>...</td>\n",
       "      <td>...</td>\n",
       "      <td>...</td>\n",
       "    </tr>\n",
       "    <tr>\n",
       "      <th>995</th>\n",
       "      <td>0.273438</td>\n",
       "      <td>0.114610</td>\n",
       "      <td>0.403974</td>\n",
       "      <td>0.728155</td>\n",
       "      <td>0.103704</td>\n",
       "      <td>0.103093</td>\n",
       "      <td>0.156250</td>\n",
       "      <td>0.014327</td>\n",
       "      <td>0.382609</td>\n",
       "    </tr>\n",
       "    <tr>\n",
       "      <th>996</th>\n",
       "      <td>0.065104</td>\n",
       "      <td>0.068010</td>\n",
       "      <td>0.754967</td>\n",
       "      <td>0.398058</td>\n",
       "      <td>0.140741</td>\n",
       "      <td>0.051546</td>\n",
       "      <td>0.218750</td>\n",
       "      <td>0.438395</td>\n",
       "      <td>0.633043</td>\n",
       "    </tr>\n",
       "    <tr>\n",
       "      <th>997</th>\n",
       "      <td>0.171875</td>\n",
       "      <td>0.094458</td>\n",
       "      <td>0.384106</td>\n",
       "      <td>0.398058</td>\n",
       "      <td>0.059259</td>\n",
       "      <td>0.103093</td>\n",
       "      <td>0.218750</td>\n",
       "      <td>0.229226</td>\n",
       "      <td>0.292174</td>\n",
       "    </tr>\n",
       "    <tr>\n",
       "      <th>998</th>\n",
       "      <td>0.138021</td>\n",
       "      <td>0.066751</td>\n",
       "      <td>0.384106</td>\n",
       "      <td>0.514563</td>\n",
       "      <td>0.125926</td>\n",
       "      <td>0.144330</td>\n",
       "      <td>0.270833</td>\n",
       "      <td>0.398281</td>\n",
       "      <td>0.747826</td>\n",
       "    </tr>\n",
       "    <tr>\n",
       "      <th>999</th>\n",
       "      <td>0.117188</td>\n",
       "      <td>0.076826</td>\n",
       "      <td>0.397351</td>\n",
       "      <td>0.368932</td>\n",
       "      <td>0.103704</td>\n",
       "      <td>0.092784</td>\n",
       "      <td>0.281250</td>\n",
       "      <td>0.017192</td>\n",
       "      <td>0.486957</td>\n",
       "    </tr>\n",
       "  </tbody>\n",
       "</table>\n",
       "<p>1000 rows × 9 columns</p>\n",
       "</div>"
      ],
      "text/plain": [
       "     Urea_scaled  Cr_scaled  HbA1c_scaled  Chol_scaled  TG_scaled  HDL_scaled  \\\n",
       "0       0.109375   0.050378      0.264901     0.407767   0.044444    0.226804   \n",
       "1       0.104167   0.070529      0.264901     0.359223   0.081481    0.092784   \n",
       "2       0.109375   0.050378      0.264901     0.407767   0.044444    0.226804   \n",
       "3       0.109375   0.050378      0.264901     0.407767   0.044444    0.226804   \n",
       "4       0.171875   0.050378      0.264901     0.475728   0.051852    0.061856   \n",
       "..           ...        ...           ...          ...        ...         ...   \n",
       "995     0.273438   0.114610      0.403974     0.728155   0.103704    0.103093   \n",
       "996     0.065104   0.068010      0.754967     0.398058   0.140741    0.051546   \n",
       "997     0.171875   0.094458      0.384106     0.398058   0.059259    0.103093   \n",
       "998     0.138021   0.066751      0.384106     0.514563   0.125926    0.144330   \n",
       "999     0.117188   0.076826      0.397351     0.368932   0.103704    0.092784   \n",
       "\n",
       "     LDL_scaled  VLDL_scaled  BMI_scaled  \n",
       "0      0.114583     0.011461    0.173913  \n",
       "1      0.187500     0.014327    0.139130  \n",
       "2      0.114583     0.011461    0.173913  \n",
       "3      0.114583     0.011461    0.173913  \n",
       "4      0.177083     0.008596    0.069565  \n",
       "..          ...          ...         ...  \n",
       "995    0.156250     0.014327    0.382609  \n",
       "996    0.218750     0.438395    0.633043  \n",
       "997    0.218750     0.229226    0.292174  \n",
       "998    0.270833     0.398281    0.747826  \n",
       "999    0.281250     0.017192    0.486957  \n",
       "\n",
       "[1000 rows x 9 columns]"
      ]
     },
     "execution_count": 107,
     "metadata": {},
     "output_type": "execute_result"
    }
   ],
   "source": [
    "columns_to_scale = ['Urea','Cr','HbA1c','Chol','TG','HDL','LDL','VLDL','BMI']\n",
    "columns_scaled = ['Urea_scaled','Cr_scaled','HbA1c_scaled','Chol_scaled','TG_scaled','HDL_scaled','LDL_scaled','VLDL_scaled','BMI_scaled']\n",
    "scale_values = df2[columns_to_scale].values\n",
    "scaled_array = scaler.fit_transform(scale_values)\n",
    "df2_scaled = pd.DataFrame(scaled_array, columns=columns_scaled)\n",
    "df2_scaled"
   ]
  },
  {
   "cell_type": "code",
   "execution_count": 108,
   "metadata": {
    "colab": {
     "base_uri": "https://localhost:8080/",
     "height": 424
    },
    "executionInfo": {
     "elapsed": 26,
     "status": "ok",
     "timestamp": 1673947990489,
     "user": {
      "displayName": "Wuraola Oyewusi",
      "userId": "00359427092648181298"
     },
     "user_tz": 0
    },
    "id": "VaChB6Q4HOU_",
    "outputId": "4ff6a8f6-02de-4784-9488-9437de4ce3ce"
   },
   "outputs": [
    {
     "data": {
      "text/html": [
       "<div>\n",
       "<style scoped>\n",
       "    .dataframe tbody tr th:only-of-type {\n",
       "        vertical-align: middle;\n",
       "    }\n",
       "\n",
       "    .dataframe tbody tr th {\n",
       "        vertical-align: top;\n",
       "    }\n",
       "\n",
       "    .dataframe thead th {\n",
       "        text-align: right;\n",
       "    }\n",
       "</style>\n",
       "<table border=\"1\" class=\"dataframe\">\n",
       "  <thead>\n",
       "    <tr style=\"text-align: right;\">\n",
       "      <th></th>\n",
       "      <th>Gender</th>\n",
       "      <th>Urea</th>\n",
       "      <th>Cr</th>\n",
       "      <th>HbA1c</th>\n",
       "      <th>Chol</th>\n",
       "      <th>TG</th>\n",
       "      <th>HDL</th>\n",
       "      <th>LDL</th>\n",
       "      <th>VLDL</th>\n",
       "      <th>BMI</th>\n",
       "      <th>...</th>\n",
       "      <th>age_range</th>\n",
       "      <th>Urea_scaled</th>\n",
       "      <th>Cr_scaled</th>\n",
       "      <th>HbA1c_scaled</th>\n",
       "      <th>Chol_scaled</th>\n",
       "      <th>TG_scaled</th>\n",
       "      <th>HDL_scaled</th>\n",
       "      <th>LDL_scaled</th>\n",
       "      <th>VLDL_scaled</th>\n",
       "      <th>BMI_scaled</th>\n",
       "    </tr>\n",
       "  </thead>\n",
       "  <tbody>\n",
       "    <tr>\n",
       "      <th>0</th>\n",
       "      <td>0</td>\n",
       "      <td>4.7</td>\n",
       "      <td>46</td>\n",
       "      <td>4.9</td>\n",
       "      <td>4.2</td>\n",
       "      <td>0.9</td>\n",
       "      <td>2.4</td>\n",
       "      <td>1.4</td>\n",
       "      <td>0.5</td>\n",
       "      <td>24.0</td>\n",
       "      <td>...</td>\n",
       "      <td>4</td>\n",
       "      <td>0.109375</td>\n",
       "      <td>0.050378</td>\n",
       "      <td>0.264901</td>\n",
       "      <td>0.407767</td>\n",
       "      <td>0.044444</td>\n",
       "      <td>0.226804</td>\n",
       "      <td>0.114583</td>\n",
       "      <td>0.011461</td>\n",
       "      <td>0.173913</td>\n",
       "    </tr>\n",
       "    <tr>\n",
       "      <th>1</th>\n",
       "      <td>1</td>\n",
       "      <td>4.5</td>\n",
       "      <td>62</td>\n",
       "      <td>4.9</td>\n",
       "      <td>3.7</td>\n",
       "      <td>1.4</td>\n",
       "      <td>1.1</td>\n",
       "      <td>2.1</td>\n",
       "      <td>0.6</td>\n",
       "      <td>23.0</td>\n",
       "      <td>...</td>\n",
       "      <td>0</td>\n",
       "      <td>0.104167</td>\n",
       "      <td>0.070529</td>\n",
       "      <td>0.264901</td>\n",
       "      <td>0.359223</td>\n",
       "      <td>0.081481</td>\n",
       "      <td>0.092784</td>\n",
       "      <td>0.187500</td>\n",
       "      <td>0.014327</td>\n",
       "      <td>0.139130</td>\n",
       "    </tr>\n",
       "    <tr>\n",
       "      <th>2</th>\n",
       "      <td>0</td>\n",
       "      <td>4.7</td>\n",
       "      <td>46</td>\n",
       "      <td>4.9</td>\n",
       "      <td>4.2</td>\n",
       "      <td>0.9</td>\n",
       "      <td>2.4</td>\n",
       "      <td>1.4</td>\n",
       "      <td>0.5</td>\n",
       "      <td>24.0</td>\n",
       "      <td>...</td>\n",
       "      <td>4</td>\n",
       "      <td>0.109375</td>\n",
       "      <td>0.050378</td>\n",
       "      <td>0.264901</td>\n",
       "      <td>0.407767</td>\n",
       "      <td>0.044444</td>\n",
       "      <td>0.226804</td>\n",
       "      <td>0.114583</td>\n",
       "      <td>0.011461</td>\n",
       "      <td>0.173913</td>\n",
       "    </tr>\n",
       "    <tr>\n",
       "      <th>3</th>\n",
       "      <td>0</td>\n",
       "      <td>4.7</td>\n",
       "      <td>46</td>\n",
       "      <td>4.9</td>\n",
       "      <td>4.2</td>\n",
       "      <td>0.9</td>\n",
       "      <td>2.4</td>\n",
       "      <td>1.4</td>\n",
       "      <td>0.5</td>\n",
       "      <td>24.0</td>\n",
       "      <td>...</td>\n",
       "      <td>4</td>\n",
       "      <td>0.109375</td>\n",
       "      <td>0.050378</td>\n",
       "      <td>0.264901</td>\n",
       "      <td>0.407767</td>\n",
       "      <td>0.044444</td>\n",
       "      <td>0.226804</td>\n",
       "      <td>0.114583</td>\n",
       "      <td>0.011461</td>\n",
       "      <td>0.173913</td>\n",
       "    </tr>\n",
       "    <tr>\n",
       "      <th>4</th>\n",
       "      <td>1</td>\n",
       "      <td>7.1</td>\n",
       "      <td>46</td>\n",
       "      <td>4.9</td>\n",
       "      <td>4.9</td>\n",
       "      <td>1.0</td>\n",
       "      <td>0.8</td>\n",
       "      <td>2.0</td>\n",
       "      <td>0.4</td>\n",
       "      <td>21.0</td>\n",
       "      <td>...</td>\n",
       "      <td>1</td>\n",
       "      <td>0.171875</td>\n",
       "      <td>0.050378</td>\n",
       "      <td>0.264901</td>\n",
       "      <td>0.475728</td>\n",
       "      <td>0.051852</td>\n",
       "      <td>0.061856</td>\n",
       "      <td>0.177083</td>\n",
       "      <td>0.008596</td>\n",
       "      <td>0.069565</td>\n",
       "    </tr>\n",
       "    <tr>\n",
       "      <th>...</th>\n",
       "      <td>...</td>\n",
       "      <td>...</td>\n",
       "      <td>...</td>\n",
       "      <td>...</td>\n",
       "      <td>...</td>\n",
       "      <td>...</td>\n",
       "      <td>...</td>\n",
       "      <td>...</td>\n",
       "      <td>...</td>\n",
       "      <td>...</td>\n",
       "      <td>...</td>\n",
       "      <td>...</td>\n",
       "      <td>...</td>\n",
       "      <td>...</td>\n",
       "      <td>...</td>\n",
       "      <td>...</td>\n",
       "      <td>...</td>\n",
       "      <td>...</td>\n",
       "      <td>...</td>\n",
       "      <td>...</td>\n",
       "      <td>...</td>\n",
       "    </tr>\n",
       "    <tr>\n",
       "      <th>995</th>\n",
       "      <td>1</td>\n",
       "      <td>11.0</td>\n",
       "      <td>97</td>\n",
       "      <td>7.0</td>\n",
       "      <td>7.5</td>\n",
       "      <td>1.7</td>\n",
       "      <td>1.2</td>\n",
       "      <td>1.8</td>\n",
       "      <td>0.6</td>\n",
       "      <td>30.0</td>\n",
       "      <td>...</td>\n",
       "      <td>6</td>\n",
       "      <td>0.273438</td>\n",
       "      <td>0.114610</td>\n",
       "      <td>0.403974</td>\n",
       "      <td>0.728155</td>\n",
       "      <td>0.103704</td>\n",
       "      <td>0.103093</td>\n",
       "      <td>0.156250</td>\n",
       "      <td>0.014327</td>\n",
       "      <td>0.382609</td>\n",
       "    </tr>\n",
       "    <tr>\n",
       "      <th>996</th>\n",
       "      <td>1</td>\n",
       "      <td>3.0</td>\n",
       "      <td>60</td>\n",
       "      <td>12.3</td>\n",
       "      <td>4.1</td>\n",
       "      <td>2.2</td>\n",
       "      <td>0.7</td>\n",
       "      <td>2.4</td>\n",
       "      <td>15.4</td>\n",
       "      <td>37.2</td>\n",
       "      <td>...</td>\n",
       "      <td>1</td>\n",
       "      <td>0.065104</td>\n",
       "      <td>0.068010</td>\n",
       "      <td>0.754967</td>\n",
       "      <td>0.398058</td>\n",
       "      <td>0.140741</td>\n",
       "      <td>0.051546</td>\n",
       "      <td>0.218750</td>\n",
       "      <td>0.438395</td>\n",
       "      <td>0.633043</td>\n",
       "    </tr>\n",
       "    <tr>\n",
       "      <th>997</th>\n",
       "      <td>1</td>\n",
       "      <td>7.1</td>\n",
       "      <td>81</td>\n",
       "      <td>6.7</td>\n",
       "      <td>4.1</td>\n",
       "      <td>1.1</td>\n",
       "      <td>1.2</td>\n",
       "      <td>2.4</td>\n",
       "      <td>8.1</td>\n",
       "      <td>27.4</td>\n",
       "      <td>...</td>\n",
       "      <td>1</td>\n",
       "      <td>0.171875</td>\n",
       "      <td>0.094458</td>\n",
       "      <td>0.384106</td>\n",
       "      <td>0.398058</td>\n",
       "      <td>0.059259</td>\n",
       "      <td>0.103093</td>\n",
       "      <td>0.218750</td>\n",
       "      <td>0.229226</td>\n",
       "      <td>0.292174</td>\n",
       "    </tr>\n",
       "    <tr>\n",
       "      <th>998</th>\n",
       "      <td>1</td>\n",
       "      <td>5.8</td>\n",
       "      <td>59</td>\n",
       "      <td>6.7</td>\n",
       "      <td>5.3</td>\n",
       "      <td>2.0</td>\n",
       "      <td>1.6</td>\n",
       "      <td>2.9</td>\n",
       "      <td>14.0</td>\n",
       "      <td>40.5</td>\n",
       "      <td>...</td>\n",
       "      <td>2</td>\n",
       "      <td>0.138021</td>\n",
       "      <td>0.066751</td>\n",
       "      <td>0.384106</td>\n",
       "      <td>0.514563</td>\n",
       "      <td>0.125926</td>\n",
       "      <td>0.144330</td>\n",
       "      <td>0.270833</td>\n",
       "      <td>0.398281</td>\n",
       "      <td>0.747826</td>\n",
       "    </tr>\n",
       "    <tr>\n",
       "      <th>999</th>\n",
       "      <td>1</td>\n",
       "      <td>5.0</td>\n",
       "      <td>67</td>\n",
       "      <td>6.9</td>\n",
       "      <td>3.8</td>\n",
       "      <td>1.7</td>\n",
       "      <td>1.1</td>\n",
       "      <td>3.0</td>\n",
       "      <td>0.7</td>\n",
       "      <td>33.0</td>\n",
       "      <td>...</td>\n",
       "      <td>4</td>\n",
       "      <td>0.117188</td>\n",
       "      <td>0.076826</td>\n",
       "      <td>0.397351</td>\n",
       "      <td>0.368932</td>\n",
       "      <td>0.103704</td>\n",
       "      <td>0.092784</td>\n",
       "      <td>0.281250</td>\n",
       "      <td>0.017192</td>\n",
       "      <td>0.486957</td>\n",
       "    </tr>\n",
       "  </tbody>\n",
       "</table>\n",
       "<p>1000 rows × 21 columns</p>\n",
       "</div>"
      ],
      "text/plain": [
       "     Gender  Urea  Cr  HbA1c  Chol   TG  HDL  LDL  VLDL   BMI  ...  age_range  \\\n",
       "0         0   4.7  46    4.9   4.2  0.9  2.4  1.4   0.5  24.0  ...          4   \n",
       "1         1   4.5  62    4.9   3.7  1.4  1.1  2.1   0.6  23.0  ...          0   \n",
       "2         0   4.7  46    4.9   4.2  0.9  2.4  1.4   0.5  24.0  ...          4   \n",
       "3         0   4.7  46    4.9   4.2  0.9  2.4  1.4   0.5  24.0  ...          4   \n",
       "4         1   7.1  46    4.9   4.9  1.0  0.8  2.0   0.4  21.0  ...          1   \n",
       "..      ...   ...  ..    ...   ...  ...  ...  ...   ...   ...  ...        ...   \n",
       "995       1  11.0  97    7.0   7.5  1.7  1.2  1.8   0.6  30.0  ...          6   \n",
       "996       1   3.0  60   12.3   4.1  2.2  0.7  2.4  15.4  37.2  ...          1   \n",
       "997       1   7.1  81    6.7   4.1  1.1  1.2  2.4   8.1  27.4  ...          1   \n",
       "998       1   5.8  59    6.7   5.3  2.0  1.6  2.9  14.0  40.5  ...          2   \n",
       "999       1   5.0  67    6.9   3.8  1.7  1.1  3.0   0.7  33.0  ...          4   \n",
       "\n",
       "     Urea_scaled  Cr_scaled  HbA1c_scaled  Chol_scaled  TG_scaled  HDL_scaled  \\\n",
       "0       0.109375   0.050378      0.264901     0.407767   0.044444    0.226804   \n",
       "1       0.104167   0.070529      0.264901     0.359223   0.081481    0.092784   \n",
       "2       0.109375   0.050378      0.264901     0.407767   0.044444    0.226804   \n",
       "3       0.109375   0.050378      0.264901     0.407767   0.044444    0.226804   \n",
       "4       0.171875   0.050378      0.264901     0.475728   0.051852    0.061856   \n",
       "..           ...        ...           ...          ...        ...         ...   \n",
       "995     0.273438   0.114610      0.403974     0.728155   0.103704    0.103093   \n",
       "996     0.065104   0.068010      0.754967     0.398058   0.140741    0.051546   \n",
       "997     0.171875   0.094458      0.384106     0.398058   0.059259    0.103093   \n",
       "998     0.138021   0.066751      0.384106     0.514563   0.125926    0.144330   \n",
       "999     0.117188   0.076826      0.397351     0.368932   0.103704    0.092784   \n",
       "\n",
       "     LDL_scaled  VLDL_scaled  BMI_scaled  \n",
       "0      0.114583     0.011461    0.173913  \n",
       "1      0.187500     0.014327    0.139130  \n",
       "2      0.114583     0.011461    0.173913  \n",
       "3      0.114583     0.011461    0.173913  \n",
       "4      0.177083     0.008596    0.069565  \n",
       "..          ...          ...         ...  \n",
       "995    0.156250     0.014327    0.382609  \n",
       "996    0.218750     0.438395    0.633043  \n",
       "997    0.218750     0.229226    0.292174  \n",
       "998    0.270833     0.398281    0.747826  \n",
       "999    0.281250     0.017192    0.486957  \n",
       "\n",
       "[1000 rows x 21 columns]"
      ]
     },
     "execution_count": 108,
     "metadata": {},
     "output_type": "execute_result"
    }
   ],
   "source": [
    "df3 = pd.concat([df2,df2_scaled],axis=1)\n",
    "df3"
   ]
  },
  {
   "cell_type": "code",
   "execution_count": 109,
   "metadata": {
    "id": "o_AWkoncU7I5"
   },
   "outputs": [],
   "source": [
    "from sklearn.model_selection import train_test_split\n",
    "\n",
    "X = df3[['Gender','age_range','Urea_scaled','Cr_scaled','HbA1c_scaled','Chol_scaled','TG_scaled','HDL_scaled','LDL_scaled','VLDL_scaled','BMI_scaled']].values\n",
    "y = df3['CLASS'].values\n",
    "train_set, test_set,train_label,test_label = train_test_split(X,y,test_size=0.20,random_state=0)"
   ]
  },
  {
   "cell_type": "code",
   "execution_count": 110,
   "metadata": {
    "colab": {
     "base_uri": "https://localhost:8080/"
    },
    "executionInfo": {
     "elapsed": 23,
     "status": "ok",
     "timestamp": 1673947990490,
     "user": {
      "displayName": "Wuraola Oyewusi",
      "userId": "00359427092648181298"
     },
     "user_tz": 0
    },
    "id": "9LTXt5nDMEi1",
    "outputId": "03b9ed3a-c54a-430b-ba13-868085632cfd"
   },
   "outputs": [
    {
     "data": {
      "text/plain": [
       "array([0.        , 4.        , 0.109375  , 0.05037783, 0.26490066,\n",
       "       0.40776699, 0.04444444, 0.22680412, 0.11458333, 0.01146132,\n",
       "       0.17391304])"
      ]
     },
     "execution_count": 110,
     "metadata": {},
     "output_type": "execute_result"
    }
   ],
   "source": [
    "X[0]"
   ]
  },
  {
   "cell_type": "markdown",
   "metadata": {},
   "source": [
    "## 2. Model Selection"
   ]
  },
  {
   "cell_type": "code",
   "execution_count": 111,
   "metadata": {},
   "outputs": [],
   "source": [
    "from sklearn import model_selection\n",
    "from sklearn.linear_model import LogisticRegression\n",
    "from sklearn.neighbors import KNeighborsClassifier\n",
    "from sklearn.naive_bayes import GaussianNB\n",
    "from sklearn.svm import SVC\n",
    "from sklearn.ensemble import RandomForestClassifier\n",
    "from sklearn.tree import DecisionTreeRegressor\n",
    "from xgboost.sklearn import XGBClassifier\n",
    "from sklearn.metrics import accuracy_score,classification_report,confusion_matrix,ConfusionMatrixDisplay"
   ]
  },
  {
   "cell_type": "code",
   "execution_count": 113,
   "metadata": {
    "id": "EAPUGer9MQE9"
   },
   "outputs": [],
   "source": [
    "#TODO Explain the model architecture \n",
    "models = []\n",
    "models.append(('LR', LogisticRegression(solver ='lbfgs',multi_class='auto')))\n",
    "models.append(('KNN', KNeighborsClassifier()))\n",
    "models.append(('NB', GaussianNB()))\n",
    "models.append(('SVC', SVC(gamma='scale')))\n",
    "models.append(('RFC', RandomForestClassifier(n_estimators=100)))\n",
    "models.append(('DTR', DecisionTreeRegressor()))\n",
    "models.append(('XGB',XGBClassifier()))"
   ]
  },
  {
   "cell_type": "code",
   "execution_count": 114,
   "metadata": {
    "id": "TqHSP2VzMxsI"
   },
   "outputs": [],
   "source": [
    "results = []\n",
    "names = []"
   ]
  },
  {
   "cell_type": "code",
   "execution_count": 115,
   "metadata": {
    "colab": {
     "base_uri": "https://localhost:8080/"
    },
    "executionInfo": {
     "elapsed": 3463,
     "status": "ok",
     "timestamp": 1673947993938,
     "user": {
      "displayName": "Wuraola Oyewusi",
      "userId": "00359427092648181298"
     },
     "user_tz": 0
    },
    "id": "P4t8UWTDM6qT",
    "outputId": "4c495a18-1789-4b39-9ddf-739fc8dd0c58"
   },
   "outputs": [
    {
     "name": "stderr",
     "output_type": "stream",
     "text": [
      "/Users/davidcruz/anaconda3/envs/LinkedInLearning/lib/python3.11/site-packages/sklearn/linear_model/_logistic.py:1247: FutureWarning: 'multi_class' was deprecated in version 1.5 and will be removed in 1.7. From then on, it will always use 'multinomial'. Leave it to its default value to avoid this warning.\n",
      "  warnings.warn(\n",
      "/Users/davidcruz/anaconda3/envs/LinkedInLearning/lib/python3.11/site-packages/sklearn/linear_model/_logistic.py:1247: FutureWarning: 'multi_class' was deprecated in version 1.5 and will be removed in 1.7. From then on, it will always use 'multinomial'. Leave it to its default value to avoid this warning.\n",
      "  warnings.warn(\n",
      "/Users/davidcruz/anaconda3/envs/LinkedInLearning/lib/python3.11/site-packages/sklearn/linear_model/_logistic.py:1247: FutureWarning: 'multi_class' was deprecated in version 1.5 and will be removed in 1.7. From then on, it will always use 'multinomial'. Leave it to its default value to avoid this warning.\n",
      "  warnings.warn(\n",
      "/Users/davidcruz/anaconda3/envs/LinkedInLearning/lib/python3.11/site-packages/sklearn/linear_model/_logistic.py:1247: FutureWarning: 'multi_class' was deprecated in version 1.5 and will be removed in 1.7. From then on, it will always use 'multinomial'. Leave it to its default value to avoid this warning.\n",
      "  warnings.warn(\n",
      "/Users/davidcruz/anaconda3/envs/LinkedInLearning/lib/python3.11/site-packages/sklearn/linear_model/_logistic.py:1247: FutureWarning: 'multi_class' was deprecated in version 1.5 and will be removed in 1.7. From then on, it will always use 'multinomial'. Leave it to its default value to avoid this warning.\n",
      "  warnings.warn(\n",
      "/Users/davidcruz/anaconda3/envs/LinkedInLearning/lib/python3.11/site-packages/sklearn/linear_model/_logistic.py:1247: FutureWarning: 'multi_class' was deprecated in version 1.5 and will be removed in 1.7. From then on, it will always use 'multinomial'. Leave it to its default value to avoid this warning.\n",
      "  warnings.warn(\n",
      "/Users/davidcruz/anaconda3/envs/LinkedInLearning/lib/python3.11/site-packages/sklearn/linear_model/_logistic.py:1247: FutureWarning: 'multi_class' was deprecated in version 1.5 and will be removed in 1.7. From then on, it will always use 'multinomial'. Leave it to its default value to avoid this warning.\n",
      "  warnings.warn(\n",
      "/Users/davidcruz/anaconda3/envs/LinkedInLearning/lib/python3.11/site-packages/sklearn/linear_model/_logistic.py:1247: FutureWarning: 'multi_class' was deprecated in version 1.5 and will be removed in 1.7. From then on, it will always use 'multinomial'. Leave it to its default value to avoid this warning.\n",
      "  warnings.warn(\n",
      "/Users/davidcruz/anaconda3/envs/LinkedInLearning/lib/python3.11/site-packages/sklearn/linear_model/_logistic.py:1247: FutureWarning: 'multi_class' was deprecated in version 1.5 and will be removed in 1.7. From then on, it will always use 'multinomial'. Leave it to its default value to avoid this warning.\n",
      "  warnings.warn(\n",
      "/Users/davidcruz/anaconda3/envs/LinkedInLearning/lib/python3.11/site-packages/sklearn/linear_model/_logistic.py:1247: FutureWarning: 'multi_class' was deprecated in version 1.5 and will be removed in 1.7. From then on, it will always use 'multinomial'. Leave it to its default value to avoid this warning.\n",
      "  warnings.warn(\n"
     ]
    },
    {
     "name": "stdout",
     "output_type": "stream",
     "text": [
      "LR: 0.8200000000000001 (0.3306055050963308)\n",
      "KNN: 0.7809999999999999 (0.3497270364155451)\n",
      "NB: 0.8220000000000001 (0.2690278795961489)\n",
      "SVC: 0.783 (0.35273361053350155)\n",
      "RFC: 0.841 (0.3262039239494216)\n",
      "DTR: 0.8550000000000001 (0.27717323103070396)\n",
      "XGB: nan (nan)\n"
     ]
    },
    {
     "name": "stderr",
     "output_type": "stream",
     "text": [
      "/Users/davidcruz/anaconda3/envs/LinkedInLearning/lib/python3.11/site-packages/sklearn/model_selection/_validation.py:540: FitFailedWarning: \n",
      "1 fits failed out of a total of 10.\n",
      "The score on these train-test partitions for these parameters will be set to nan.\n",
      "If these failures are not expected, you can try to debug them by setting error_score='raise'.\n",
      "\n",
      "Below are more details about the failures:\n",
      "--------------------------------------------------------------------------------\n",
      "1 fits failed with the following error:\n",
      "Traceback (most recent call last):\n",
      "  File \"/Users/davidcruz/anaconda3/envs/LinkedInLearning/lib/python3.11/site-packages/sklearn/model_selection/_validation.py\", line 888, in _fit_and_score\n",
      "    estimator.fit(X_train, y_train, **fit_params)\n",
      "  File \"/Users/davidcruz/anaconda3/envs/LinkedInLearning/lib/python3.11/site-packages/xgboost/core.py\", line 726, in inner_f\n",
      "    return func(**kwargs)\n",
      "           ^^^^^^^^^^^^^^\n",
      "  File \"/Users/davidcruz/anaconda3/envs/LinkedInLearning/lib/python3.11/site-packages/xgboost/sklearn.py\", line 1491, in fit\n",
      "    raise ValueError(\n",
      "ValueError: Invalid classes inferred from unique values of `y`.  Expected: [0 1], got [0 2]\n",
      "\n",
      "  warnings.warn(some_fits_failed_message, FitFailedWarning)\n"
     ]
    }
   ],
   "source": [
    "for name, model in models:\n",
    "    kfold = model_selection.KFold(n_splits = 10)\n",
    "    cv_results = model_selection.cross_val_score(model, X, y,cv=kfold, scoring='accuracy')\n",
    "    results.append(cv_results)\n",
    "    names.append(name)\n",
    "    msg = \"{}: {} ({})\". format(name, cv_results.mean(), cv_results.std())\n",
    "    print(msg)"
   ]
  },
  {
   "cell_type": "code",
   "execution_count": 116,
   "metadata": {
    "id": "e8iyy_xWM_0x"
   },
   "outputs": [],
   "source": [
    "XGBClassifier_model = XGBClassifier()\n",
    "XGBClassifier_model_fitted = XGBClassifier_model.fit(train_set,train_label)\n",
    "XGBClassifier_model_prediction = XGBClassifier_model.predict(test_set)"
   ]
  },
  {
   "cell_type": "code",
   "execution_count": 117,
   "metadata": {
    "colab": {
     "base_uri": "https://localhost:8080/"
    },
    "executionInfo": {
     "elapsed": 16,
     "status": "ok",
     "timestamp": 1673947994201,
     "user": {
      "displayName": "Wuraola Oyewusi",
      "userId": "00359427092648181298"
     },
     "user_tz": 0
    },
    "id": "OwlTM4ziPj7u",
    "outputId": "6b8dfd44-a293-4e50-aa9f-4ccce22a8afc"
   },
   "outputs": [
    {
     "data": {
      "text/plain": [
       "array([0, 1, 2])"
      ]
     },
     "execution_count": 117,
     "metadata": {},
     "output_type": "execute_result"
    }
   ],
   "source": [
    "df3['CLASS'].unique() #0 means No diabetes, 1 means predicted, 2 means diabetes"
   ]
  },
  {
   "cell_type": "code",
   "execution_count": null,
   "metadata": {},
   "outputs": [],
   "source": []
  },
  {
   "cell_type": "markdown",
   "metadata": {},
   "source": [
    "## 3. Model Evaluations"
   ]
  },
  {
   "cell_type": "code",
   "execution_count": 118,
   "metadata": {
    "colab": {
     "base_uri": "https://localhost:8080/"
    },
    "executionInfo": {
     "elapsed": 12,
     "status": "ok",
     "timestamp": 1673947994202,
     "user": {
      "displayName": "Wuraola Oyewusi",
      "userId": "00359427092648181298"
     },
     "user_tz": 0
    },
    "id": "mikozBY-Qszb",
    "outputId": "953600a1-30ac-4deb-d346-e2c55f33b371"
   },
   "outputs": [
    {
     "name": "stdout",
     "output_type": "stream",
     "text": [
      "XGB Classifier Accuracy Score:\n",
      " 0.995\n"
     ]
    }
   ],
   "source": [
    "print('XGB Classifier Accuracy Score:\\n', accuracy_score(test_label, XGBClassifier_model_prediction))"
   ]
  },
  {
   "cell_type": "code",
   "execution_count": 119,
   "metadata": {
    "colab": {
     "base_uri": "https://localhost:8080/"
    },
    "executionInfo": {
     "elapsed": 9,
     "status": "ok",
     "timestamp": 1673947994423,
     "user": {
      "displayName": "Wuraola Oyewusi",
      "userId": "00359427092648181298"
     },
     "user_tz": 0
    },
    "id": "mDlPDZfuO-0E",
    "outputId": "a1772390-0a4b-4ff6-ee7a-efa12c0f7655"
   },
   "outputs": [
    {
     "name": "stdout",
     "output_type": "stream",
     "text": [
      "XGB Classifier Report:\n",
      "               precision    recall  f1-score   support\n",
      "\n",
      "           0       1.00      1.00      1.00        16\n",
      "           1       1.00      0.88      0.93         8\n",
      "           2       0.99      1.00      1.00       176\n",
      "\n",
      "    accuracy                           0.99       200\n",
      "   macro avg       1.00      0.96      0.98       200\n",
      "weighted avg       1.00      0.99      0.99       200\n",
      "\n"
     ]
    }
   ],
   "source": [
    "print('XGB Classifier Report:\\n', classification_report(test_label,XGBClassifier_model_prediction,target_names=['0','1','2']))"
   ]
  },
  {
   "cell_type": "code",
   "execution_count": 120,
   "metadata": {
    "colab": {
     "base_uri": "https://localhost:8080/",
     "height": 597
    },
    "executionInfo": {
     "elapsed": 312,
     "status": "ok",
     "timestamp": 1673947994728,
     "user": {
      "displayName": "Wuraola Oyewusi",
      "userId": "00359427092648181298"
     },
     "user_tz": 0
    },
    "id": "vdpQkenLTA88",
    "outputId": "7e5ed9e3-c948-4901-db88-a708e67e273b"
   },
   "outputs": [
    {
     "data": {
      "text/plain": [
       "<sklearn.metrics._plot.confusion_matrix.ConfusionMatrixDisplay at 0x15daf8a10>"
      ]
     },
     "execution_count": 120,
     "metadata": {},
     "output_type": "execute_result"
    },
    {
     "data": {
      "image/png": "[encoded data removed]",
      "text/plain": [
       "<Figure size 1000x1000 with 2 Axes>"
      ]
     },
     "metadata": {},
     "output_type": "display_data"
    }
   ],
   "source": [
    "XGBClassifier_matrix = confusion_matrix(test_label,XGBClassifier_model_prediction)\n",
    "XGBClassifier_confusion_matrix_display = ConfusionMatrixDisplay(XGBClassifier_matrix)\n",
    "fig, ax = plt.subplots(figsize=(10,10))\n",
    "XGBClassifier_confusion_matrix_display.plot(cmap=plt.cm.Blues,ax=ax)"
   ]
  },
  {
   "cell_type": "code",
   "execution_count": null,
   "metadata": {},
   "outputs": [],
   "source": []
  }
 ],
 "metadata": {
  "colab": {
   "authorship_tag": "ABX9TyP7tSOYpWCI5knBgW6GYAPv",
   "provenance": []
  },
  "kernelspec": {
   "display_name": "Python 3 (ipykernel)",
   "language": "python",
   "name": "python3"
  },
  "language_info": {
   "codemirror_mode": {
    "name": "ipython",
    "version": 3
   },
   "file_extension": ".py",
   "mimetype": "text/x-python",
   "name": "python",
   "nbconvert_exporter": "python",
   "pygments_lexer": "ipython3",
   "version": "3.11.11"
  }
 },
 "nbformat": 4,
 "nbformat_minor": 4
}
