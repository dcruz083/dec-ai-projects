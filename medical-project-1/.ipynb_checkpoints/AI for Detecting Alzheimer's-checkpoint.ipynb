{
 "cells": [
  {
   "cell_type": "markdown",
   "id": "7ddd0425",
   "metadata": {},
   "source": [
    "# AI for Detecting Alzheimer's\n",
    "#### Created by: David Cruz\n",
    "#### GitHub Username: dcruz083\n",
    "#### Created on 8/22/24"
   ]
  },
  {
   "cell_type": "markdown",
   "id": "de840293",
   "metadata": {},
   "source": [
    "## Objectives\n",
    "Lorem ipsum"
   ]
  },
  {
   "cell_type": "markdown",
   "id": "7d865027",
   "metadata": {},
   "source": [
    "### 1 - Data Collection & Exploration\n",
    "##### Data source \n",
    "+ Lorem ipsum\n",
    "##### Libraries\n",
    "+ TensorFlow\n",
    "##### Ethical considerations\n",
    "+ Lack of demographic metadata"
   ]
  },
  {
   "cell_type": "code",
   "execution_count": 1,
   "id": "2aba74ff",
   "metadata": {},
   "outputs": [],
   "source": [
    "from tensorflow.keras.preprocessing.image import ImageDataGenerator, load_img, img_to_array\n",
    "import os\n",
    "import numpy as np\n",
    "import matplotlib.pyplot as plt"
   ]
  },
  {
   "cell_type": "code",
   "execution_count": 2,
   "id": "78e619ad",
   "metadata": {},
   "outputs": [
    {
     "name": "stdout",
     "output_type": "stream",
     "text": [
      "Found 5121 images belonging to 4 classes.\n",
      "Found 1279 images belonging to 4 classes.\n",
      "Class labels: ['MildDemented', 'ModerateDemented', 'NonDemented', 'VeryMildDemented']\n"
     ]
    }
   ],
   "source": [
    "# Defining the image data generator for both training and testing \n",
    "datagen = ImageDataGenerator(rescale=1./255)\n",
    "batch_size = 32\n",
    "\n",
    "# Create generators for training and testing data(without data augmentation, just rescaling)\n",
    "train_generator = datagen.flow_from_directory(\n",
    "    'Alzheimer_sDataset/train',\n",
    "    target_size=(224, 224),\n",
    "    batch_size=batch_size,\n",
    "    class_mode='categorical'\n",
    ")\n",
    "\n",
    "test_generator = datagen.flow_from_directory(\n",
    "    'Alzheimer_sDataset/test',\n",
    "    target_size=(224, 224),\n",
    "    batch_size=batch_size,\n",
    "    class_mode='categorical',\n",
    "    shuffle=False\n",
    ")\n",
    "\n",
    "# Retrieve class labels\n",
    "class_labels = list(train_generator.class_indices.keys())\n",
    "print(\"Class labels:\", class_labels)"
   ]
  },
  {
   "cell_type": "code",
   "execution_count": null,
   "id": "affca95a-9a99-4430-8c40-18dedd40073c",
   "metadata": {},
   "outputs": [],
   "source": []
  }
 ],
 "metadata": {
  "kernelspec": {
   "display_name": "Python 3 (ipykernel)",
   "language": "python",
   "name": "python3"
  },
  "language_info": {
   "codemirror_mode": {
    "name": "ipython",
    "version": 3
   },
   "file_extension": ".py",
   "mimetype": "text/x-python",
   "name": "python",
   "nbconvert_exporter": "python",
   "pygments_lexer": "ipython3",
   "version": "3.11.6"
  }
 },
 "nbformat": 4,
 "nbformat_minor": 5
}
